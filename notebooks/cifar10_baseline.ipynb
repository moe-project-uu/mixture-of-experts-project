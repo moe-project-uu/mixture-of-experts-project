{
  "cells": [
    {
      "cell_type": "markdown",
      "metadata": {
        "id": "zTrnSqBG8v-j"
      },
      "source": [
        "# CIFAR-10 Baseline (Colab)\n",
        "\n",
        "This notebook loads the repo, installs deps, optionally runs the trainer, and visualizes saved metrics."
      ]
    },
    {
      "cell_type": "code",
      "execution_count": 7,
      "metadata": {
        "colab": {
          "base_uri": "https://localhost:8080/"
        },
        "id": "xaiYScrl8v-j",
        "outputId": "6e852bc5-b56e-4a1f-f8b3-9ebd8e2e9953"
      },
      "outputs": [
        {
          "output_type": "stream",
          "name": "stdout",
          "text": [
            "[Errno 2] No such file or directory: '/content # go back to root'\n",
            "/content/mixture-of-experts-project\n",
            "Cloning into 'mixture-of-experts-project'...\n"
          ]
        }
      ],
      "source": [
        "%cd /content\n",
        "!git clone https://github.com/moe-project-uu/mixture-of-experts-project.git\n",
        "%cd mixture-of-experts-project\n"
      ]
    }
  ],
  "metadata": { ... },
  "nbformat": 4,
  "nbformat_minor": 0
}
