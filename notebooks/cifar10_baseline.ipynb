{
    "cells": [
     {
      "cell_type": "markdown",
      "metadata": {},
      "source": [
       "# CIFAR-10 Baseline (Colab)\n",
       "\n",
       "This notebook loads the repo, installs deps, optionally runs the trainer, and visualizes saved metrics."
      ]
     },
     {
      "cell_type": "code",
      "execution_count": null,
      "metadata": {},
      "outputs": [],
      "source": [
       "# Setup: clone repo and install requirements\n",
       "!git clone https://github.com/moe-project-uu/mixture-of-experts-project.git || true\n",
       "%cd mixture-of-experts-project\n",
       "%pip install -r requirements.txt"
      ]
     },
     {
      "cell_type": "code",
      "execution_count": null,
      "metadata": {},
      "outputs": [],
      "source": [
       "# Optional: run training here (or skip if you've already trained)\n",
       "# You can tweak EPOCHS in the script if you add an argparse flag later.\n",
       "!python scripts/train_cifar10.py"
      ]
     },
     {
      "cell_type": "code",
      "execution_count": null,
      "metadata": {},
      "outputs": [],
      "source": [
       "# Load saved metrics for plotting\n",
       "import torch\n",
       "metrics = torch.load(\"checkpoints/cifar10_metrics.pt\", map_location=\"cpu\")\n",
       "train_losses = metrics[\"train_losses\"]\n",
       "train_accs   = metrics[\"train_accs\"]\n",
       "val_losses   = metrics[\"val_losses\"]\n",
       "val_accs     = metrics[\"val_accs\"]\n",
       "len(train_losses), len(val_losses)"
      ]
     },
     {
      "cell_type": "code",
      "execution_count": null,
      "metadata": {},
      "outputs": [],
      "source": [
       "# Plot curves\n",
       "import matplotlib.pyplot as plt\n",
       "plt.figure()\n",
       "plt.plot(train_losses, label=\"train loss\")\n",
       "plt.plot(val_losses, label=\"val loss\")\n",
       "plt.xlabel(\"epoch\"); plt.ylabel(\"loss\"); plt.legend(); plt.show()\n",
       "\n",
       "plt.figure()\n",
       "plt.plot([x*100 for x in train_accs], label=\"train acc %\")\n",
       "plt.plot([x*100 for x in val_accs], label=\"val acc %\")\n",
       "plt.xlabel(\"epoch\"); plt.ylabel(\"accuracy %\"); plt.legend(); plt.show()"
      ]
     },
     {
      "cell_type": "code",
      "execution_count": null,
      "metadata": {},
      "outputs": [],
      "source": [
       "# Inspect a few predictions\n",
       "import torch\n",
       "import torchvision\n",
       "import torchvision.transforms as T\n",
       "from scripts.train_cifar10 import cnn_classifier\n",
       "\n",
       "device = \"cuda\" if torch.cuda.is_available() else \"cpu\"\n",
       "\n",
       "# Load model\n",
       "model = cnn_classifier(in_channels=3, out_channels=10)\n",
       "ckpt = torch.load(\"checkpoints/cifar10_cnn.pt\", map_location=device)\n",
       "model.load_state_dict(ckpt[\"model\"])\n",
       "model.eval().to(device)\n",
       "\n",
       "# CIFAR-10 test set with same normalization used in training\n",
       "transform = T.Compose([\n",
       "    T.ToTensor(),\n",
       "    T.Normalize(mean=(0.4914, 0.4822, 0.4465), std=(0.2470, 0.2435, 0.2616)),\n",
       "])\n",
       "testset = torchvision.datasets.CIFAR10(root=\"./data\", train=False, download=True, transform=transform)\n",
       "classes = testset.classes\n",
       "\n",
       "from torch.utils.data import DataLoader\n",
       "loader = DataLoader(testset, batch_size=16, shuffle=True)\n",
       "\n",
       "images, labels = next(iter(loader))\n",
       "images, labels = images.to(device), labels.to(device)\n",
       "with torch.no_grad():\n",
       "    logits = model(images)\n",
       "preds = logits.argmax(dim=1)\n",
       "\n",
       "# Show a small grid\n",
       "import matplotlib.pyplot as plt\n",
       "import numpy as np\n",
       "\n",
       "def unnormalize(img):\n",
       "    mean = np.array([0.4914, 0.4822, 0.4465]).reshape(3,1,1)\n",
       "    std  = np.array([0.2470, 0.2435, 0.2616]).reshape(3,1,1)\n",
       "    img = img.cpu().numpy()\n",
       "    return np.clip((img * std) + mean, 0, 1)\n",
       "\n",
       "plt.figure(figsize=(10,6))\n",
       "for i in range(12):\n",
       "    plt.subplot(3,4,i+1)\n",
       "    plt.imshow(np.transpose(unnormalize(images[i]), (1,2,0)))\n",
       "    plt.title(f\"pred: {classes[preds[i]]}\\ntrue: {classes[labels[i]]}\")\n",
       "    plt.axis('off')\n",
       "plt.tight_layout(); plt.show()"
      ]
     }
    ],
    "metadata": {
     "kernelspec": {
      "display_name": "Python 3",
      "language": "python",
      "name": "python3"
     },
     "language_info": {
      "name": "python",
      "pygments_lexer": "ipython3"
     }
    },
    "nbformat": 4,
    "nbformat_minor": 5
   }
   