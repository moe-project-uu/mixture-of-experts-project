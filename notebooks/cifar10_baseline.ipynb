{
 "cells": [
  {
   "cell_type": "code",
   "execution_count": null,
   "metadata": {},
   "outputs": [],
   "source": [
    "# Setup: clone repo and install requirements\n",
    "%cd /content  # go back to root\n",
    "!rm -rf mixture-of-experts-project\n",
    "!git clone https://github.com/moe-project-uu/mixture-of-experts-project.git || true\n",
    "%cd mixture-of-experts-project\n",
    "%pip install -r requirements.txt"
   ]
  },
  {
   "cell_type": "code",
   "execution_count": null,
   "metadata": {},
   "outputs": [],
   "source": [
    "# run training script\n",
    "!python scripts/train_cifar10.py"
   ]
  },
  {
   "cell_type": "code",
   "execution_count": null,
   "metadata": {},
   "outputs": [],
   "source": [
    "# Load saved metrics for plotting\n",
    "import torch\n",
    "metrics = torch.load(\"checkpoints/resnet18_metrics.pt\", map_location=\"cpu\")\n",
    "train_losses = metrics[\"train_losses\"]\n",
    "train_accs   = metrics[\"train_accs\"]\n",
    "val_losses   = metrics[\"val_losses\"]\n",
    "val_accs     = metrics[\"val_accs\"]\n",
    "len(train_losses), len(val_losses)"
   ]
  },
  {
   "cell_type": "code",
   "execution_count": null,
   "metadata": {},
   "outputs": [],
   "source": [
    "# Plot curves\n",
    "import matplotlib.pyplot as plt\n",
    "plt.figure()\n",
    "plt.plot(train_losses, label=\"train loss\")\n",
    "plt.plot(val_losses, label=\"val loss\")\n",
    "plt.xlabel(\"epoch\"); plt.ylabel(\"loss\"); plt.legend(); plt.show()\n",
    "\n",
    "plt.figure()\n",
    "plt.plot([x*100 for x in train_accs], label=\"train acc %\")\n",
    "plt.plot([x*100 for x in val_accs], label=\"val acc %\")\n",
    "plt.xlabel(\"epoch\"); plt.ylabel(\"accuracy %\"); plt.legend(); plt.show()"
   ]
  }
 ],
 "metadata": {
  "kernelspec": {
   "display_name": "Python 3",
   "language": "python",
   "name": "python3"
  },
  "language_info": {
   "name": "python",
   "version": "3.x"
  }
 },
 "nbformat": 4,
 "nbformat_minor": 5
}
