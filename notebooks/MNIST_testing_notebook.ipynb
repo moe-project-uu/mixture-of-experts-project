{
 "cells": [
  {
   "cell_type": "markdown",
   "id": "34bcc396",
   "metadata": {},
   "source": [
    "## Notebook for testing MoE with MNIST  \n",
    "Main objective here is to figure out how to get the gradients to go through the loss function using PyTorch"
   ]
  },
  {
   "cell_type": "code",
   "execution_count": 1,
   "id": "11921873",
   "metadata": {},
   "outputs": [
    {
     "name": "stdout",
     "output_type": "stream",
     "text": [
      "['c:\\\\Users\\\\caleb\\\\OneDrive - Uppsala universitet\\\\Fall 2025\\\\Projects Course\\\\mixture-of-experts-organization\\\\mixture-of-experts-project', 'C:\\\\Program Files\\\\WindowsApps\\\\PythonSoftwareFoundation.Python.3.13_3.13.2288.0_x64__qbz5n2kfra8p0\\\\python313.zip', 'C:\\\\Program Files\\\\WindowsApps\\\\PythonSoftwareFoundation.Python.3.13_3.13.2288.0_x64__qbz5n2kfra8p0\\\\DLLs', 'C:\\\\Program Files\\\\WindowsApps\\\\PythonSoftwareFoundation.Python.3.13_3.13.2288.0_x64__qbz5n2kfra8p0\\\\Lib', 'C:\\\\Program Files\\\\WindowsApps\\\\PythonSoftwareFoundation.Python.3.13_3.13.2288.0_x64__qbz5n2kfra8p0', '', 'C:\\\\Users\\\\caleb\\\\AppData\\\\Local\\\\Packages\\\\PythonSoftwareFoundation.Python.3.13_qbz5n2kfra8p0\\\\LocalCache\\\\local-packages\\\\Python313\\\\site-packages', 'C:\\\\Users\\\\caleb\\\\AppData\\\\Local\\\\Packages\\\\PythonSoftwareFoundation.Python.3.13_qbz5n2kfra8p0\\\\LocalCache\\\\local-packages\\\\Python313\\\\site-packages\\\\win32', 'C:\\\\Users\\\\caleb\\\\AppData\\\\Local\\\\Packages\\\\PythonSoftwareFoundation.Python.3.13_qbz5n2kfra8p0\\\\LocalCache\\\\local-packages\\\\Python313\\\\site-packages\\\\win32\\\\lib', 'C:\\\\Users\\\\caleb\\\\AppData\\\\Local\\\\Packages\\\\PythonSoftwareFoundation.Python.3.13_qbz5n2kfra8p0\\\\LocalCache\\\\local-packages\\\\Python313\\\\site-packages\\\\Pythonwin', 'C:\\\\Program Files\\\\WindowsApps\\\\PythonSoftwareFoundation.Python.3.13_3.13.2288.0_x64__qbz5n2kfra8p0\\\\Lib\\\\site-packages']\n"
     ]
    }
   ],
   "source": [
    "import torch\n",
    "from torch import nn\n",
    "import torch.nn.functional as F\n",
    "import numpy as np \n",
    "import random\n",
    "import time\n",
    "import sys\n",
    "import os\n",
    "import matplotlib.pyplot as plt\n",
    "\n",
    "#for the disk_memoize function\n",
    "import pickle\n",
    "import hashlib\n",
    "from functools import wraps\n",
    "from tqdm import tqdm\n",
    "\n",
    "# Add scripts folder path so I can get load_mnist\n",
    "repo_root = os.path.abspath(\"..\")  # one level up from /notebook\n",
    "if repo_root not in sys.path:\n",
    "    sys.path.insert(0, repo_root)\n",
    "from scripts.MNIST import load_mnist\n",
    "print(sys.path)\n",
    "\n",
    "#just some basic stuff to set for reproducability\n",
    "DEVICE = \"cuda\" if torch.cuda.is_available() else \"cpu\"\n",
    "SEED = 42\n",
    "BATCH_SIZE = 128\n",
    "EPOCHS = 50\n",
    "LEARNING_RATE = 0.001"
   ]
  },
  {
   "cell_type": "code",
   "execution_count": null,
   "id": "ff8e5d12",
   "metadata": {},
   "outputs": [
    {
     "name": "stdout",
     "output_type": "stream",
     "text": [
      "Retrieving test images\n"
     ]
    },
    {
     "name": "stderr",
     "output_type": "stream",
     "text": [
      "100%|██████████| 980/980 [00:01<00:00, 521.80it/s]\n",
      "100%|██████████| 1135/1135 [00:02<00:00, 524.07it/s]\n",
      "100%|██████████| 1032/1032 [00:01<00:00, 520.58it/s]\n",
      "100%|██████████| 1010/1010 [00:01<00:00, 523.60it/s]\n",
      "100%|██████████| 982/982 [00:01<00:00, 527.58it/s]\n",
      "100%|██████████| 892/892 [00:01<00:00, 524.74it/s]\n",
      "100%|██████████| 958/958 [00:01<00:00, 528.52it/s]\n",
      "100%|██████████| 1028/1028 [00:01<00:00, 526.77it/s]\n",
      "100%|██████████| 974/974 [00:01<00:00, 524.24it/s]\n",
      "100%|██████████| 1009/1009 [00:01<00:00, 523.25it/s]\n",
      "100%|██████████| 10/10 [00:19<00:00,  1.91s/it]\n"
     ]
    },
    {
     "name": "stdout",
     "output_type": "stream",
     "text": [
      "Retrieving train images\n"
     ]
    },
    {
     "name": "stderr",
     "output_type": "stream",
     "text": [
      "100%|██████████| 5923/5923 [00:14<00:00, 405.26it/s]\n",
      "100%|██████████| 6742/6742 [00:27<00:00, 246.78it/s]\n",
      "100%|██████████| 5958/5958 [03:38<00:00, 27.21it/s] \n",
      "100%|██████████| 6131/6131 [00:34<00:00, 176.59it/s]\n",
      "100%|██████████| 5842/5842 [00:29<00:00, 196.73it/s]\n",
      "100%|██████████| 5421/5421 [00:27<00:00, 197.58it/s]\n",
      "100%|██████████| 5918/5918 [00:28<00:00, 205.16it/s]\n",
      "100%|██████████| 6265/6265 [00:28<00:00, 216.16it/s]\n",
      "100%|██████████| 5851/5851 [00:28<00:00, 207.75it/s]\n",
      "100%|██████████| 5949/5949 [00:29<00:00, 204.09it/s]\n",
      "100%|██████████| 10/10 [07:48<00:00, 46.80s/it]\n"
     ]
    },
    {
     "name": "stdout",
     "output_type": "stream",
     "text": [
      "[[0. 0. 0. ... 0. 0. 0.]\n",
      " [0. 0. 0. ... 0. 0. 0.]\n",
      " [0. 0. 0. ... 0. 0. 0.]\n",
      " ...\n",
      " [0. 0. 0. ... 0. 0. 0.]\n",
      " [0. 0. 0. ... 0. 0. 0.]\n",
      " [0. 0. 0. ... 0. 0. 0.]]\n"
     ]
    }
   ],
   "source": [
    "#want to get the data in a linear format becuase our simple MoE will be with linear layers\n",
    "def get_data(linear = True):\n",
    "    #get the train and test data from the dataset\n",
    "    xtrain,ytrain,xtest,ytest = load_mnist.load_mnist()\n",
    "    #if we want to work with flattened/ linear input\n",
    "    if linear:\n",
    "        xtrain = torch.Tensor(xtrain).to(DEVICE)\n",
    "        ytrain = torch.Tensor(ytrain).to(DEVICE)\n",
    "        xtest = torch.Tensor(xtest).to(DEVICE)\n",
    "        ytest = torch.Tensor(ytest).to(DEVICE)\n",
    "    else:\n",
    "        #converting to Tensors for easy PyTorch implementation and reshape for a CNN\n",
    "        xtrain = torch.Tensor(xtrain).reshape(60000, 1,28,28).to(DEVICE)\n",
    "        ytrain = torch.Tensor(ytrain).to(DEVICE)\n",
    "        xtest = torch.Tensor(xtest).reshape(10000, 1,28,28).to(DEVICE)\n",
    "        ytest = torch.Tensor(ytest).to(DEVICE)\n",
    "    #first we want to put our data in a pytorch dataset so we can mini batch and enumerate through it later more easily\n",
    "    train_dataset = torch.utils.data.TensorDataset(xtrain, ytrain)\n",
    "    test_dataset = torch.utils.data.TensorDataset(xtest, ytest)\n",
    "    #Making a dataloader for this specific CNN which is a wrapper around the Dataset for easy use\n",
    "    train_loader = torch.utils.data.DataLoader(dataset=train_dataset, batch_size=BATCH_SIZE, shuffle=True)\n",
    "    #make the batch size for the test DataLoader the size of the dataset for evaluation.\n",
    "    test_loader = torch.utils.data.DataLoader(dataset=test_dataset, batch_size = ytest.shape[0], shuffle=True)\n",
    "    return train_loader, test_loader\n",
    "\n",
    "#get the data\n",
    "train_loader, test_loader = get_data()"
   ]
  },
  {
   "cell_type": "code",
   "execution_count": null,
   "id": "943de75d",
   "metadata": {},
   "outputs": [],
   "source": []
  }
 ],
 "metadata": {
  "kernelspec": {
   "display_name": "Python 3",
   "language": "python",
   "name": "python3"
  },
  "language_info": {
   "codemirror_mode": {
    "name": "ipython",
    "version": 3
   },
   "file_extension": ".py",
   "mimetype": "text/x-python",
   "name": "python",
   "nbconvert_exporter": "python",
   "pygments_lexer": "ipython3",
   "version": "3.13.8"
  }
 },
 "nbformat": 4,
 "nbformat_minor": 5
}
