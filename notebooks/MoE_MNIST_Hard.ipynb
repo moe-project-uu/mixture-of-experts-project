{
 "cells": [
  {
   "cell_type": "markdown",
   "id": "15d5a3c0",
   "metadata": {},
   "source": [
    "## Notebook for Hard MoE implementation  \n",
    "## 1. Set-up and Data Loading  \n",
    "This is identical across all MoE implementations "
   ]
  },
  {
   "cell_type": "code",
   "execution_count": 77,
   "id": "580dd064",
   "metadata": {},
   "outputs": [
    {
     "name": "stdout",
     "output_type": "stream",
     "text": [
      "Using device: cuda\n"
     ]
    }
   ],
   "source": [
    "## Imports\n",
    "import os\n",
    "import sys\n",
    "import time\n",
    "from collections import defaultdict\n",
    "\n",
    "import numpy as np \n",
    "import matplotlib.pyplot as plt\n",
    "from scipy.stats import norm\n",
    "from tqdm import tqdm\n",
    "\n",
    "import torch\n",
    "from torch import nn\n",
    "import torch.nn.functional as F\n",
    "from torch.utils.data import Subset, DataLoader\n",
    "from torchvision import datasets, transforms\n",
    "from torchvision.models.feature_extraction import create_feature_extractor, get_graph_node_names\n",
    "# setting device\n",
    "DEVICE = \"cuda\" if torch.cuda.is_available() else \"cpu\"\n",
    "print(\"Using device:\", DEVICE)"
   ]
  },
  {
   "cell_type": "code",
   "execution_count": 3,
   "id": "404197d0",
   "metadata": {},
   "outputs": [],
   "source": [
    "# Define the transformation to convert to Tensor and flatten it\n",
    "flatten_transform = transforms.Compose([\n",
    "    transforms.ToTensor(),\n",
    "    transforms.Lambda(lambda x: x.flatten()) # Flattens the C x H x W tensor to a 1D vector\n",
    "])\n",
    "\n",
    "DATA_DIR = \"../data\"\n",
    "\n",
    "# Download and load the training dataset with the new transformation\n",
    "train_dataset = datasets.MNIST(\n",
    "    root = DATA_DIR,\n",
    "    train = True,\n",
    "    transform = flatten_transform,\n",
    "    download = True\n",
    ")\n",
    "\n",
    "# Download and load the test dataset with the new transformation\n",
    "test_dataset = datasets.MNIST(\n",
    "    root = DATA_DIR,\n",
    "    train = False,\n",
    "    transform = flatten_transform,\n",
    "    download = True\n",
    ")"
   ]
  },
  {
   "cell_type": "code",
   "execution_count": 4,
   "id": "e0b93a1f",
   "metadata": {},
   "outputs": [
    {
     "name": "stdout",
     "output_type": "stream",
     "text": [
      "Number of training samples: 60000\n",
      "Number of test samples: 10000\n",
      "Shape of the first image: torch.Size([784])\n",
      "Label of the first image: 5\n"
     ]
    }
   ],
   "source": [
    "print(f\"Number of training samples: {len(train_dataset)}\")\n",
    "print(f\"Number of test samples: {len(test_dataset)}\")\n",
    "# Get the first image and its label from the training dataset\n",
    "first_image, first_label = train_dataset[0]\n",
    "\n",
    "# Print the shape of the image tensor\n",
    "print(f\"Shape of the first image: {first_image.shape}\")\n",
    "print(f\"Label of the first image: {first_label}\")"
   ]
  },
  {
   "cell_type": "code",
   "execution_count": 99,
   "id": "6607d90e",
   "metadata": {},
   "outputs": [],
   "source": [
    "## Set hyperparameters\n",
    "BATCH_SIZE = 128\n",
    "\n",
    "## Making data loaders\n",
    "train_loader = torch.utils.data.DataLoader(dataset=train_dataset, batch_size=BATCH_SIZE, shuffle=True)\n",
    "test_dataset_size = test_dataset.data.shape[0]\n",
    "test_loader = torch.utils.data.DataLoader(dataset=test_dataset, batch_size=test_dataset_size, shuffle=True)"
   ]
  },
  {
   "cell_type": "markdown",
   "id": "0a3c8659",
   "metadata": {},
   "source": [
    "## 2. HardMoE implementation"
   ]
  },
  {
   "cell_type": "code",
   "execution_count": 118,
   "id": "8e3cdac7",
   "metadata": {},
   "outputs": [],
   "source": [
    "class OneLayerExpert(torch.nn.Module):\n",
    "    \"\"\"Simple expert with only one hidden layer\"\"\"\n",
    "    def __init__(self, input_size, hidden_size, output_size):\n",
    "        super().__init__()\n",
    "        # Hidden layer\n",
    "        self.l_1 = torch.nn.Linear(input_size, hidden_size)\n",
    "        self.relu_1 = torch.nn.ReLU()\n",
    "        \n",
    "        self.output = torch.nn.Linear(hidden_size, output_size)\n",
    "    \n",
    "    def forward(self, x):\n",
    "        x = self.relu_1(self.l_1(x))\n",
    "        x = self.output(x)\n",
    "        return x\n",
    "\n",
    "#the gating network. Here we only want the topk to contribute to the final output\n",
    "#we will follow closely from this paper https://arxiv.org/pdf/1701.06538\n",
    "#on how the gating network should be constructed for better load balancing\n",
    "#this involves using sparsity and noise\n",
    "class Gating(torch.nn.Module):\n",
    "    def __init__(self, input_size, hidden_size, output_size, topk=2):\n",
    "        super().__init__()\n",
    "        #here we have a sparse layer trainable weight\n",
    "        self.l_sparse = torch.nn.Linear(input_size, output_size)\n",
    "        #here is a noise trainable weight\n",
    "        self.l_noise = torch.nn.Linear(input_size, output_size)\n",
    "        self.softplus_noise = torch.nn.Softplus()\n",
    "        self.topk = topk\n",
    "\n",
    "    def forward(self, x):\n",
    "        #will be of shape batch size x num_experts\n",
    "        sparsity = self.l_sparse(x)\n",
    "        noise = self.softplus_noise(self.l_noise(x))\n",
    "        # print(\"Noise shape:\", noise.shape)\n",
    "        # print(\"Sparsity shape:\", sparsity.shape)\n",
    "        # print(\"noise: \", noise)\n",
    "        normal_noise  = torch.normal(mean=torch.zeros_like(noise), std=1).to(DEVICE)\n",
    "        # print(\"normal noise shape:\", normal_noise.shape)\n",
    "        # print(\"normal noise: \", normal_noise)\n",
    "        noise = normal_noise * noise\n",
    "        # print(\"noisy shape:\", noise.shape)\n",
    "        # print(\"noisy: \", noise)\n",
    "        x = sparsity + noise\n",
    "        # print(\"x shape:\", x.shape)  \n",
    "        # print(\"x: \", x)\n",
    "        '''This is the main difference between a soft MoE and HardMoE and this will cause problems with backpropagation\n",
    "        since the gradient will be zero for all experts that are not in the topk'''\n",
    "        if self.topk < x.shape[1]:\n",
    "            # Get the top-k values\n",
    "            topk_values, _ = torch.topk(x, self.topk, dim=1)\n",
    "            # Get the k-th largest value for each sample\n",
    "            threshold = topk_values[:, -1].unsqueeze(1) \n",
    "            # Set values below threshold to -inf\n",
    "            x = torch.where(x >= threshold, x, torch.tensor(float('-inf')).to(x.device)) \n",
    "        # Apply softmax through expert/output dimension, so we get probability distribution but it will be over the topk experts\n",
    "        x = F.softmax(x, dim=-1) \n",
    "        return x\n",
    "\n",
    "class HardMOE(torch.nn.Module):\n",
    "    def __init__(self, input_size, hidden_size_experts, hidden_size_gating, num_experts, output_size, topk, weight_importance=0.1):\n",
    "        super().__init__()\n",
    "        # Creating gating layer\n",
    "        self.gate = Gating(\n",
    "            input_size = input_size, \n",
    "            hidden_size = hidden_size_gating, \n",
    "            output_size = num_experts,\n",
    "            topk = topk\n",
    "        )\n",
    "        # Create experts\n",
    "        self.experts = nn.ModuleList(\n",
    "            [OneLayerExpert(\n",
    "                input_size=input_size, \n",
    "                hidden_size = hidden_size_experts, \n",
    "                output_size = output_size\n",
    "            ) for _ in range(num_experts)]\n",
    "        )\n",
    "        self.weight_importance = weight_importance\n",
    "\n",
    "    def forward(self, x):\n",
    "        # if B = batch_size, N = expert_num, D_out = expert output dimension\n",
    "        gating_output = self.gate(x) # shape: (B, N)\n",
    "        #this follows the importance loss from the paper\n",
    "        importance = gating_output.sum(0) # shape: (N,)\n",
    "        # print(\"importance: \", importance)\n",
    "        mean = torch.mean(importance)\n",
    "        std_dev = torch.std(importance)\n",
    "        cv = std_dev / mean\n",
    "        loss_importance = self.weight_importance * cv * cv\n",
    "        # print(\"Importance loss: \", loss_importance.item())\n",
    "        expert_outputs = torch.stack([expert(x) for expert in self.experts], dim=2) # shape: (B, D_out, N)\n",
    "        # Calculating weighted sum:\n",
    "        # 1. gating_output.unsqueeze -> (B, N, 1)\n",
    "        # 2. torch.bmm(...) -> (B, D_out, 1)\n",
    "        # 3. .squeeze(2) -> (B, D_out)\n",
    "        output = torch.bmm(expert_outputs, gating_output.unsqueeze(2)).squeeze(2)\n",
    "        \n",
    "        return output, gating_output, loss_importance"
   ]
  },
  {
   "cell_type": "code",
   "execution_count": 119,
   "id": "89de5f69",
   "metadata": {},
   "outputs": [
    {
     "name": "stdout",
     "output_type": "stream",
     "text": [
      "(tensor([[ 8.3810e-02,  1.1763e-01, -1.6189e-01,  ...,  1.1089e-01,\n",
      "          8.2019e-02,  1.4985e-04],\n",
      "        [ 1.3477e-01,  3.5905e-02,  2.2640e-02,  ...,  8.9769e-02,\n",
      "          9.5492e-02, -8.3414e-02],\n",
      "        [ 7.8939e-02,  1.5269e-01, -1.3035e-01,  ...,  1.1587e-01,\n",
      "          9.7546e-02, -1.2767e-01],\n",
      "        ...,\n",
      "        [ 6.0788e-02,  1.7873e-01, -1.1984e-01,  ...,  4.7801e-02,\n",
      "         -2.1224e-02,  4.6309e-02],\n",
      "        [-1.2218e-01,  4.6038e-02, -3.9608e-02,  ..., -4.2133e-03,\n",
      "         -6.9273e-02, -4.7922e-02],\n",
      "        [ 1.8740e-02,  1.9722e-01, -1.0640e-01,  ...,  9.1547e-02,\n",
      "          9.0092e-02, -4.2568e-02]], device='cuda:0',\n",
      "       grad_fn=<SqueezeBackward1>), tensor([[0.0000, 0.0000, 0.0000,  ..., 0.5533, 0.0000, 0.0000],\n",
      "        [0.0000, 0.0000, 0.4296,  ..., 0.0000, 0.0000, 0.5704],\n",
      "        [0.0000, 0.0000, 0.0000,  ..., 0.0000, 0.2275, 0.0000],\n",
      "        ...,\n",
      "        [0.0000, 0.0000, 0.0000,  ..., 0.5402, 0.0000, 0.0000],\n",
      "        [0.0000, 0.5163, 0.0000,  ..., 0.0000, 0.0000, 0.0000],\n",
      "        [0.0000, 0.0000, 0.3107,  ..., 0.0000, 0.0000, 0.0000]],\n",
      "       device='cuda:0', grad_fn=<SoftmaxBackward0>), tensor(0.0035, device='cuda:0', grad_fn=<MulBackward0>))\n"
     ]
    }
   ],
   "source": [
    "network = HardMOE(\n",
    "    input_size = 28*28, \n",
    "    hidden_size_experts = 32, \n",
    "    hidden_size_gating = 16, \n",
    "    num_experts = 8, \n",
    "    output_size = 10,\n",
    "    topk = 2\n",
    ").to(DEVICE)\n",
    "for _, (data, label) in enumerate(train_loader):\n",
    "    data = data.to(DEVICE)\n",
    "    label = label.to(DEVICE)\n",
    "    output = network(data)\n",
    "    print(output)\n",
    "    break"
   ]
  },
  {
   "cell_type": "markdown",
   "id": "013f2100",
   "metadata": {},
   "source": [
    "## 3. Training  \n",
    "### 3.1 Set up"
   ]
  },
  {
   "cell_type": "code",
   "execution_count": 123,
   "id": "acf4212c",
   "metadata": {},
   "outputs": [],
   "source": [
    "def calculate_accuracy(outputs, labels):\n",
    "    _, output_index = torch.max(outputs, 1)\n",
    "    return (output_index == labels).sum().item() / labels.size(0)\n",
    "\n",
    "#training loop is largely unchanged, except we also store the gating outputs to calculate expert utilization\n",
    "#and I will look at the gradients to see how training is done\n",
    "def training_loop(train_loader, test_loader, num_epochs, model, loss_function, optimizer):\n",
    "    model = model.to(DEVICE)\n",
    "    # Metrics\n",
    "    training_loss = []\n",
    "    training_accuracy = []\n",
    "    test_loss = []\n",
    "    test_accuracy = []\n",
    "    expert_utilization_history = []\n",
    "    importance_loss_history = []\n",
    "    \n",
    "    print(\"Starting the Training Loop\")\n",
    "    for epoch in tqdm(range(num_epochs)):\n",
    "        model.train()\n",
    "        batch_loss = []\n",
    "        batch_accuracy = []\n",
    "        epoch_gating_outputs = [] \n",
    "        \n",
    "        # Loop through batches (Training Phase)\n",
    "        for _, (data, label) in enumerate(train_loader):\n",
    "            data = data.to(DEVICE)\n",
    "            label = label.to(DEVICE)\n",
    "            \n",
    "            # Forward pass\n",
    "            outputs, gating_output, importance_loss = model(data)\n",
    "            epoch_gating_outputs.append(gating_output.detach().cpu())\n",
    "            #print(\"gating ouputs: \", gating_output)\n",
    "            # Evaluate\n",
    "            loss = loss_function(outputs, label) + importance_loss\n",
    "            batch_loss.append(loss.item())\n",
    "            batch_accuracy.append(calculate_accuracy(outputs.detach(), label.detach()))\n",
    "\n",
    "            \n",
    "            # Backward pass setting gradients to zero\n",
    "            optimizer.zero_grad()\n",
    "            loss.backward()\n",
    "            #we can see that some experts will have zero gradients and will not learn anything\n",
    "            # for name, param in model.named_parameters():\n",
    "            #     if torch.all(param.grad == 0):\n",
    "            #         print(f\"{name} has 0 gradient and is of shape {param.shape}\")\n",
    "            #     else:\n",
    "            #         print(f\"{name} has gradient and is of shape {param.shape}: \", param.grad)\n",
    "            optimizer.step()\n",
    "\n",
    "        # Combine all gating outputs from the epoch into a single tensor\n",
    "        all_gating_outputs = torch.cat(epoch_gating_outputs, dim=0) # list of (B, N) tensors -> (Total Samples, N)\n",
    "        print(\"All gating outputs shape:\", all_gating_outputs.shape)\n",
    "        print(\"All gating outputs on first iteration:\", all_gating_outputs[0])\n",
    "        # Calculate the average utilization for each expert over the entire training set\n",
    "        avg_expert_utilization = all_gating_outputs.mean(dim=0).numpy() # (Total Samples, N) -> (N,)\n",
    "                \n",
    "        # Aggregate batch matrics\n",
    "        training_accuracy.append(np.average(batch_accuracy))\n",
    "        training_loss.append(np.average(batch_loss))\n",
    "        expert_utilization_history.append(avg_expert_utilization)\n",
    "        \n",
    "        # Test Phase\n",
    "        model.eval()\n",
    "        test_loss_list = []\n",
    "        test_accuracy_list = []\n",
    "        \n",
    "        with torch.no_grad():\n",
    "            for _, (data, label) in enumerate(test_loader):\n",
    "                data = data.to(DEVICE)\n",
    "                label = label.to(DEVICE)\n",
    "                \n",
    "                # Forward pass\n",
    "                test_predictions, _, importance_loss = model(data)\n",
    "                \n",
    "                # Evaluate\n",
    "                loss = loss_function(test_predictions, label) \n",
    "                test_loss_list.append(loss.item())\n",
    "                #add the importance loss so we can see how it changes over time\n",
    "                importance_loss_history.append(importance_loss)\n",
    "                # Use .detach() for metric calculation\n",
    "                test_accuracy_list.append(calculate_accuracy(test_predictions.detach(), label.detach())) \n",
    "\n",
    "        # Aggregate batch matrics\n",
    "        test_loss.append(np.average(test_loss_list))\n",
    "        test_accuracy.append(np.average(test_accuracy_list))\n",
    "        if epoch % 10 == 0:\n",
    "            print(f\"Epoch: {epoch} done. Test loss {test_loss[-1]:.4f}. Test accuracy {test_accuracy[-1]:.4f}\")\n",
    "    \n",
    "    return training_loss, training_accuracy, test_loss, test_accuracy, expert_utilization_history"
   ]
  },
  {
   "cell_type": "code",
   "execution_count": 124,
   "id": "ade3675d",
   "metadata": {},
   "outputs": [],
   "source": [
    "LEARNING_RATE = 0.0001\n",
    "EPOCHS = 100\n",
    "\n",
    "EXPERT_NUM = 8\n",
    "MNIST_LINEAR_LENGTH = 784  # Input\n",
    "MNIST_CLASS_NUM = 10       # Output\n",
    "EXPERT_HIDDEN_SIZE = 25 \n",
    "GATING_HIDDEN_SIZE = 10\n",
    "TOP_K = 2\n",
    "\n",
    "moe = HardMOE(\n",
    "    input_size=MNIST_LINEAR_LENGTH,\n",
    "    hidden_size_experts=EXPERT_HIDDEN_SIZE,\n",
    "    hidden_size_gating=GATING_HIDDEN_SIZE,\n",
    "    num_experts=EXPERT_NUM,\n",
    "    output_size=MNIST_CLASS_NUM,\n",
    "    topk=TOP_K\n",
    ")\n",
    "\n",
    "loss = torch.nn.CrossEntropyLoss()\n",
    "optimizer = torch.optim.SGD(moe.parameters(), lr=LEARNING_RATE)"
   ]
  },
  {
   "cell_type": "code",
   "execution_count": 125,
   "id": "9284a3f4",
   "metadata": {},
   "outputs": [
    {
     "name": "stdout",
     "output_type": "stream",
     "text": [
      "Starting the Training Loop\n"
     ]
    },
    {
     "name": "stderr",
     "output_type": "stream",
     "text": [
      "  0%|          | 0/100 [00:00<?, ?it/s]"
     ]
    },
    {
     "name": "stdout",
     "output_type": "stream",
     "text": [
      "All gating outputs shape: torch.Size([60000, 8])\n",
      "All gating outputs on first iteration: tensor([0.2636, 0.0000, 0.0000, 0.0000, 0.0000, 0.7364, 0.0000, 0.0000])\n"
     ]
    },
    {
     "name": "stderr",
     "output_type": "stream",
     "text": [
      "  1%|          | 1/100 [00:08<13:14,  8.02s/it]"
     ]
    },
    {
     "name": "stdout",
     "output_type": "stream",
     "text": [
      "Epoch: 0 done. Test loss 2.3059. Test accuracy 0.1035\n",
      "All gating outputs shape: torch.Size([60000, 8])\n",
      "All gating outputs on first iteration: tensor([0.0000, 0.4655, 0.0000, 0.0000, 0.0000, 0.0000, 0.5345, 0.0000])\n"
     ]
    },
    {
     "name": "stderr",
     "output_type": "stream",
     "text": [
      "  2%|▏         | 2/100 [00:16<13:13,  8.09s/it]"
     ]
    },
    {
     "name": "stdout",
     "output_type": "stream",
     "text": [
      "All gating outputs shape: torch.Size([60000, 8])\n",
      "All gating outputs on first iteration: tensor([0.0000, 0.0000, 0.0000, 0.3382, 0.0000, 0.6618, 0.0000, 0.0000])\n"
     ]
    },
    {
     "name": "stderr",
     "output_type": "stream",
     "text": [
      "  3%|▎         | 3/100 [00:24<12:58,  8.02s/it]"
     ]
    },
    {
     "name": "stdout",
     "output_type": "stream",
     "text": [
      "All gating outputs shape: torch.Size([60000, 8])\n",
      "All gating outputs on first iteration: tensor([0.0000, 0.0000, 0.0000, 0.0000, 0.0000, 0.5203, 0.4797, 0.0000])\n"
     ]
    },
    {
     "name": "stderr",
     "output_type": "stream",
     "text": [
      "  4%|▍         | 4/100 [00:32<12:47,  7.99s/it]"
     ]
    },
    {
     "name": "stdout",
     "output_type": "stream",
     "text": [
      "All gating outputs shape: torch.Size([60000, 8])\n",
      "All gating outputs on first iteration: tensor([0.0000, 0.0000, 0.0000, 0.0000, 0.0000, 0.4384, 0.5616, 0.0000])\n"
     ]
    },
    {
     "name": "stderr",
     "output_type": "stream",
     "text": [
      "  5%|▌         | 5/100 [00:39<12:37,  7.97s/it]"
     ]
    },
    {
     "name": "stdout",
     "output_type": "stream",
     "text": [
      "All gating outputs shape: torch.Size([60000, 8])\n",
      "All gating outputs on first iteration: tensor([0.0000, 0.0000, 0.0000, 0.4869, 0.5131, 0.0000, 0.0000, 0.0000])\n"
     ]
    },
    {
     "name": "stderr",
     "output_type": "stream",
     "text": [
      "  6%|▌         | 6/100 [00:47<12:27,  7.95s/it]"
     ]
    },
    {
     "name": "stdout",
     "output_type": "stream",
     "text": [
      "All gating outputs shape: torch.Size([60000, 8])\n",
      "All gating outputs on first iteration: tensor([0.4340, 0.0000, 0.0000, 0.5660, 0.0000, 0.0000, 0.0000, 0.0000])\n"
     ]
    },
    {
     "name": "stderr",
     "output_type": "stream",
     "text": [
      "  7%|▋         | 7/100 [00:56<12:25,  8.01s/it]"
     ]
    },
    {
     "name": "stdout",
     "output_type": "stream",
     "text": [
      "All gating outputs shape: torch.Size([60000, 8])\n",
      "All gating outputs on first iteration: tensor([0.0000, 0.0000, 0.5456, 0.0000, 0.0000, 0.0000, 0.4544, 0.0000])\n"
     ]
    },
    {
     "name": "stderr",
     "output_type": "stream",
     "text": [
      "  8%|▊         | 8/100 [01:03<12:11,  7.95s/it]"
     ]
    },
    {
     "name": "stdout",
     "output_type": "stream",
     "text": [
      "All gating outputs shape: torch.Size([60000, 8])\n",
      "All gating outputs on first iteration: tensor([0.0000, 0.5658, 0.0000, 0.0000, 0.0000, 0.4342, 0.0000, 0.0000])\n"
     ]
    },
    {
     "name": "stderr",
     "output_type": "stream",
     "text": [
      "  9%|▉         | 9/100 [01:11<12:02,  7.94s/it]"
     ]
    },
    {
     "name": "stdout",
     "output_type": "stream",
     "text": [
      "All gating outputs shape: torch.Size([60000, 8])\n",
      "All gating outputs on first iteration: tensor([0.0000, 0.0000, 0.0000, 0.3506, 0.0000, 0.0000, 0.0000, 0.6494])\n"
     ]
    },
    {
     "name": "stderr",
     "output_type": "stream",
     "text": [
      " 10%|█         | 10/100 [01:19<11:58,  7.98s/it]"
     ]
    },
    {
     "name": "stdout",
     "output_type": "stream",
     "text": [
      "All gating outputs shape: torch.Size([60000, 8])\n",
      "All gating outputs on first iteration: tensor([0.0000, 0.0000, 0.0000, 0.0000, 0.5105, 0.4895, 0.0000, 0.0000])\n"
     ]
    },
    {
     "name": "stderr",
     "output_type": "stream",
     "text": [
      " 11%|█         | 11/100 [01:32<14:01,  9.46s/it]"
     ]
    },
    {
     "name": "stdout",
     "output_type": "stream",
     "text": [
      "Epoch: 10 done. Test loss 2.2927. Test accuracy 0.1222\n",
      "All gating outputs shape: torch.Size([60000, 8])\n",
      "All gating outputs on first iteration: tensor([0.0000, 0.0000, 0.0000, 0.0000, 0.5540, 0.0000, 0.4460, 0.0000])\n"
     ]
    },
    {
     "name": "stderr",
     "output_type": "stream",
     "text": [
      " 12%|█▏        | 12/100 [01:42<13:55,  9.50s/it]"
     ]
    },
    {
     "name": "stdout",
     "output_type": "stream",
     "text": [
      "All gating outputs shape: torch.Size([60000, 8])\n",
      "All gating outputs on first iteration: tensor([0.0000, 0.0000, 0.3678, 0.6322, 0.0000, 0.0000, 0.0000, 0.0000])\n"
     ]
    },
    {
     "name": "stderr",
     "output_type": "stream",
     "text": [
      " 13%|█▎        | 13/100 [01:50<13:23,  9.23s/it]"
     ]
    },
    {
     "name": "stdout",
     "output_type": "stream",
     "text": [
      "All gating outputs shape: torch.Size([60000, 8])\n",
      "All gating outputs on first iteration: tensor([0.0000, 0.0000, 0.0000, 0.0000, 0.2721, 0.7279, 0.0000, 0.0000])\n"
     ]
    },
    {
     "name": "stderr",
     "output_type": "stream",
     "text": [
      " 14%|█▍        | 14/100 [02:00<13:19,  9.30s/it]"
     ]
    },
    {
     "name": "stdout",
     "output_type": "stream",
     "text": [
      "All gating outputs shape: torch.Size([60000, 8])\n",
      "All gating outputs on first iteration: tensor([0.0000, 0.4341, 0.0000, 0.0000, 0.0000, 0.0000, 0.5659, 0.0000])\n"
     ]
    },
    {
     "name": "stderr",
     "output_type": "stream",
     "text": [
      " 15%|█▌        | 15/100 [02:08<12:52,  9.09s/it]"
     ]
    },
    {
     "name": "stdout",
     "output_type": "stream",
     "text": [
      "All gating outputs shape: torch.Size([60000, 8])\n",
      "All gating outputs on first iteration: tensor([0.0000, 0.0000, 0.0000, 0.2782, 0.0000, 0.0000, 0.7218, 0.0000])\n"
     ]
    },
    {
     "name": "stderr",
     "output_type": "stream",
     "text": [
      " 16%|█▌        | 16/100 [02:17<12:27,  8.90s/it]"
     ]
    },
    {
     "name": "stdout",
     "output_type": "stream",
     "text": [
      "All gating outputs shape: torch.Size([60000, 8])\n",
      "All gating outputs on first iteration: tensor([0.0000, 0.7020, 0.0000, 0.0000, 0.2980, 0.0000, 0.0000, 0.0000])\n"
     ]
    },
    {
     "name": "stderr",
     "output_type": "stream",
     "text": [
      " 17%|█▋        | 17/100 [02:25<12:09,  8.79s/it]"
     ]
    },
    {
     "name": "stdout",
     "output_type": "stream",
     "text": [
      "All gating outputs shape: torch.Size([60000, 8])\n",
      "All gating outputs on first iteration: tensor([0.0000, 0.0000, 0.0000, 0.0000, 0.6460, 0.3540, 0.0000, 0.0000])\n"
     ]
    },
    {
     "name": "stderr",
     "output_type": "stream",
     "text": [
      " 18%|█▊        | 18/100 [02:34<11:47,  8.63s/it]"
     ]
    },
    {
     "name": "stdout",
     "output_type": "stream",
     "text": [
      "All gating outputs shape: torch.Size([60000, 8])\n",
      "All gating outputs on first iteration: tensor([0.0000, 0.0000, 0.0000, 0.0000, 0.5331, 0.4669, 0.0000, 0.0000])\n"
     ]
    },
    {
     "name": "stderr",
     "output_type": "stream",
     "text": [
      " 19%|█▉        | 19/100 [02:42<11:27,  8.49s/it]"
     ]
    },
    {
     "name": "stdout",
     "output_type": "stream",
     "text": [
      "All gating outputs shape: torch.Size([60000, 8])\n",
      "All gating outputs on first iteration: tensor([0.0000, 0.0000, 0.0000, 0.0000, 0.0000, 0.4968, 0.5032, 0.0000])\n"
     ]
    },
    {
     "name": "stderr",
     "output_type": "stream",
     "text": [
      " 20%|██        | 20/100 [02:50<11:12,  8.40s/it]"
     ]
    },
    {
     "name": "stdout",
     "output_type": "stream",
     "text": [
      "All gating outputs shape: torch.Size([60000, 8])\n",
      "All gating outputs on first iteration: tensor([0.0000, 0.0000, 0.6085, 0.0000, 0.0000, 0.0000, 0.3915, 0.0000])\n"
     ]
    },
    {
     "name": "stderr",
     "output_type": "stream",
     "text": [
      " 21%|██        | 21/100 [02:58<11:01,  8.37s/it]"
     ]
    },
    {
     "name": "stdout",
     "output_type": "stream",
     "text": [
      "Epoch: 20 done. Test loss 2.2799. Test accuracy 0.1599\n",
      "All gating outputs shape: torch.Size([60000, 8])\n",
      "All gating outputs on first iteration: tensor([0.0000, 0.2897, 0.0000, 0.0000, 0.0000, 0.0000, 0.7103, 0.0000])\n"
     ]
    },
    {
     "name": "stderr",
     "output_type": "stream",
     "text": [
      " 22%|██▏       | 22/100 [03:07<10:49,  8.32s/it]"
     ]
    },
    {
     "name": "stdout",
     "output_type": "stream",
     "text": [
      "All gating outputs shape: torch.Size([60000, 8])\n",
      "All gating outputs on first iteration: tensor([0.0000, 0.0000, 0.0000, 0.0000, 0.2619, 0.7381, 0.0000, 0.0000])\n"
     ]
    },
    {
     "name": "stderr",
     "output_type": "stream",
     "text": [
      " 23%|██▎       | 23/100 [03:15<10:42,  8.35s/it]"
     ]
    },
    {
     "name": "stdout",
     "output_type": "stream",
     "text": [
      "All gating outputs shape: torch.Size([60000, 8])\n",
      "All gating outputs on first iteration: tensor([0.0000, 0.0000, 0.4231, 0.5769, 0.0000, 0.0000, 0.0000, 0.0000])\n"
     ]
    },
    {
     "name": "stderr",
     "output_type": "stream",
     "text": [
      " 24%|██▍       | 24/100 [03:23<10:31,  8.31s/it]"
     ]
    },
    {
     "name": "stdout",
     "output_type": "stream",
     "text": [
      "All gating outputs shape: torch.Size([60000, 8])\n",
      "All gating outputs on first iteration: tensor([0.0000, 0.0000, 0.0000, 0.0000, 0.2824, 0.7176, 0.0000, 0.0000])\n"
     ]
    },
    {
     "name": "stderr",
     "output_type": "stream",
     "text": [
      " 25%|██▌       | 25/100 [03:32<10:27,  8.37s/it]"
     ]
    },
    {
     "name": "stdout",
     "output_type": "stream",
     "text": [
      "All gating outputs shape: torch.Size([60000, 8])\n",
      "All gating outputs on first iteration: tensor([0.0000, 0.0000, 0.0000, 0.0000, 0.0000, 0.0000, 0.5924, 0.4076])\n"
     ]
    },
    {
     "name": "stderr",
     "output_type": "stream",
     "text": [
      " 26%|██▌       | 26/100 [03:40<10:15,  8.32s/it]"
     ]
    },
    {
     "name": "stdout",
     "output_type": "stream",
     "text": [
      "All gating outputs shape: torch.Size([60000, 8])\n",
      "All gating outputs on first iteration: tensor([0.0000, 0.0000, 0.3326, 0.6674, 0.0000, 0.0000, 0.0000, 0.0000])\n"
     ]
    },
    {
     "name": "stderr",
     "output_type": "stream",
     "text": [
      " 27%|██▋       | 27/100 [03:48<10:06,  8.31s/it]"
     ]
    },
    {
     "name": "stdout",
     "output_type": "stream",
     "text": [
      "All gating outputs shape: torch.Size([60000, 8])\n",
      "All gating outputs on first iteration: tensor([0.0000, 0.0000, 0.0000, 0.4169, 0.5831, 0.0000, 0.0000, 0.0000])\n"
     ]
    },
    {
     "name": "stderr",
     "output_type": "stream",
     "text": [
      " 28%|██▊       | 28/100 [03:56<09:56,  8.29s/it]"
     ]
    },
    {
     "name": "stdout",
     "output_type": "stream",
     "text": [
      "All gating outputs shape: torch.Size([60000, 8])\n",
      "All gating outputs on first iteration: tensor([0.0000, 0.4563, 0.0000, 0.5437, 0.0000, 0.0000, 0.0000, 0.0000])\n"
     ]
    },
    {
     "name": "stderr",
     "output_type": "stream",
     "text": [
      " 29%|██▉       | 29/100 [04:05<09:47,  8.27s/it]"
     ]
    },
    {
     "name": "stdout",
     "output_type": "stream",
     "text": [
      "All gating outputs shape: torch.Size([60000, 8])\n",
      "All gating outputs on first iteration: tensor([0.0000, 0.0000, 0.0000, 0.0000, 0.5425, 0.0000, 0.4575, 0.0000])\n"
     ]
    },
    {
     "name": "stderr",
     "output_type": "stream",
     "text": [
      " 30%|███       | 30/100 [04:13<09:40,  8.29s/it]"
     ]
    },
    {
     "name": "stdout",
     "output_type": "stream",
     "text": [
      "All gating outputs shape: torch.Size([60000, 8])\n",
      "All gating outputs on first iteration: tensor([0.5534, 0.0000, 0.0000, 0.4466, 0.0000, 0.0000, 0.0000, 0.0000])\n"
     ]
    },
    {
     "name": "stderr",
     "output_type": "stream",
     "text": [
      " 31%|███       | 31/100 [04:21<09:29,  8.25s/it]"
     ]
    },
    {
     "name": "stdout",
     "output_type": "stream",
     "text": [
      "Epoch: 30 done. Test loss 2.2680. Test accuracy 0.1755\n",
      "All gating outputs shape: torch.Size([60000, 8])\n",
      "All gating outputs on first iteration: tensor([0.4497, 0.0000, 0.0000, 0.0000, 0.0000, 0.0000, 0.0000, 0.5503])\n"
     ]
    },
    {
     "name": "stderr",
     "output_type": "stream",
     "text": [
      " 32%|███▏      | 32/100 [04:29<09:21,  8.26s/it]"
     ]
    },
    {
     "name": "stdout",
     "output_type": "stream",
     "text": [
      "All gating outputs shape: torch.Size([60000, 8])\n",
      "All gating outputs on first iteration: tensor([0.0000, 0.4434, 0.0000, 0.5566, 0.0000, 0.0000, 0.0000, 0.0000])\n"
     ]
    },
    {
     "name": "stderr",
     "output_type": "stream",
     "text": [
      " 33%|███▎      | 33/100 [04:38<09:12,  8.25s/it]"
     ]
    },
    {
     "name": "stdout",
     "output_type": "stream",
     "text": [
      "All gating outputs shape: torch.Size([60000, 8])\n",
      "All gating outputs on first iteration: tensor([0.0000, 0.0000, 0.0000, 0.0000, 0.4913, 0.5087, 0.0000, 0.0000])\n"
     ]
    },
    {
     "name": "stderr",
     "output_type": "stream",
     "text": [
      " 34%|███▍      | 34/100 [04:46<09:09,  8.33s/it]"
     ]
    },
    {
     "name": "stdout",
     "output_type": "stream",
     "text": [
      "All gating outputs shape: torch.Size([60000, 8])\n",
      "All gating outputs on first iteration: tensor([0.0000, 0.0000, 0.0000, 0.5932, 0.0000, 0.4068, 0.0000, 0.0000])\n"
     ]
    },
    {
     "name": "stderr",
     "output_type": "stream",
     "text": [
      " 35%|███▌      | 35/100 [04:54<08:58,  8.28s/it]"
     ]
    },
    {
     "name": "stdout",
     "output_type": "stream",
     "text": [
      "All gating outputs shape: torch.Size([60000, 8])\n",
      "All gating outputs on first iteration: tensor([0.5448, 0.0000, 0.4552, 0.0000, 0.0000, 0.0000, 0.0000, 0.0000])\n"
     ]
    },
    {
     "name": "stderr",
     "output_type": "stream",
     "text": [
      " 36%|███▌      | 36/100 [05:02<08:47,  8.24s/it]"
     ]
    },
    {
     "name": "stdout",
     "output_type": "stream",
     "text": [
      "All gating outputs shape: torch.Size([60000, 8])\n",
      "All gating outputs on first iteration: tensor([0.0000, 0.0000, 0.5139, 0.0000, 0.0000, 0.4861, 0.0000, 0.0000])\n"
     ]
    },
    {
     "name": "stderr",
     "output_type": "stream",
     "text": [
      " 37%|███▋      | 37/100 [05:11<08:40,  8.26s/it]"
     ]
    },
    {
     "name": "stdout",
     "output_type": "stream",
     "text": [
      "All gating outputs shape: torch.Size([60000, 8])\n",
      "All gating outputs on first iteration: tensor([0.0000, 0.5115, 0.0000, 0.0000, 0.0000, 0.0000, 0.4885, 0.0000])\n"
     ]
    },
    {
     "name": "stderr",
     "output_type": "stream",
     "text": [
      " 38%|███▊      | 38/100 [05:19<08:32,  8.26s/it]"
     ]
    },
    {
     "name": "stdout",
     "output_type": "stream",
     "text": [
      "All gating outputs shape: torch.Size([60000, 8])\n",
      "All gating outputs on first iteration: tensor([0.0000, 0.0000, 0.0000, 0.0000, 0.4274, 0.0000, 0.0000, 0.5726])\n"
     ]
    },
    {
     "name": "stderr",
     "output_type": "stream",
     "text": [
      " 39%|███▉      | 39/100 [05:27<08:22,  8.24s/it]"
     ]
    },
    {
     "name": "stdout",
     "output_type": "stream",
     "text": [
      "All gating outputs shape: torch.Size([60000, 8])\n",
      "All gating outputs on first iteration: tensor([0.0000, 0.5089, 0.0000, 0.4911, 0.0000, 0.0000, 0.0000, 0.0000])\n"
     ]
    },
    {
     "name": "stderr",
     "output_type": "stream",
     "text": [
      " 40%|████      | 40/100 [05:37<08:33,  8.57s/it]"
     ]
    },
    {
     "name": "stdout",
     "output_type": "stream",
     "text": [
      "All gating outputs shape: torch.Size([60000, 8])\n",
      "All gating outputs on first iteration: tensor([0.0000, 0.0000, 0.0000, 0.0000, 0.0000, 0.3898, 0.0000, 0.6102])\n"
     ]
    },
    {
     "name": "stderr",
     "output_type": "stream",
     "text": [
      " 41%|████      | 41/100 [05:45<08:28,  8.62s/it]"
     ]
    },
    {
     "name": "stdout",
     "output_type": "stream",
     "text": [
      "Epoch: 40 done. Test loss 2.2503. Test accuracy 0.2041\n",
      "All gating outputs shape: torch.Size([60000, 8])\n",
      "All gating outputs on first iteration: tensor([0.5874, 0.0000, 0.0000, 0.0000, 0.0000, 0.0000, 0.0000, 0.4126])\n"
     ]
    },
    {
     "name": "stderr",
     "output_type": "stream",
     "text": [
      " 42%|████▏     | 42/100 [05:54<08:22,  8.67s/it]"
     ]
    },
    {
     "name": "stdout",
     "output_type": "stream",
     "text": [
      "All gating outputs shape: torch.Size([60000, 8])\n",
      "All gating outputs on first iteration: tensor([0.5137, 0.0000, 0.0000, 0.0000, 0.0000, 0.4863, 0.0000, 0.0000])\n"
     ]
    },
    {
     "name": "stderr",
     "output_type": "stream",
     "text": [
      " 43%|████▎     | 43/100 [06:03<08:12,  8.64s/it]"
     ]
    },
    {
     "name": "stdout",
     "output_type": "stream",
     "text": [
      "All gating outputs shape: torch.Size([60000, 8])\n",
      "All gating outputs on first iteration: tensor([0.5632, 0.0000, 0.0000, 0.0000, 0.0000, 0.4368, 0.0000, 0.0000])\n"
     ]
    },
    {
     "name": "stderr",
     "output_type": "stream",
     "text": [
      " 44%|████▍     | 44/100 [06:11<08:00,  8.58s/it]"
     ]
    },
    {
     "name": "stdout",
     "output_type": "stream",
     "text": [
      "All gating outputs shape: torch.Size([60000, 8])\n",
      "All gating outputs on first iteration: tensor([0.0000, 0.0000, 0.5708, 0.0000, 0.4292, 0.0000, 0.0000, 0.0000])\n"
     ]
    },
    {
     "name": "stderr",
     "output_type": "stream",
     "text": [
      " 45%|████▌     | 45/100 [06:19<07:48,  8.52s/it]"
     ]
    },
    {
     "name": "stdout",
     "output_type": "stream",
     "text": [
      "All gating outputs shape: torch.Size([60000, 8])\n",
      "All gating outputs on first iteration: tensor([0.0000, 0.0000, 0.0000, 0.5327, 0.0000, 0.4673, 0.0000, 0.0000])\n"
     ]
    },
    {
     "name": "stderr",
     "output_type": "stream",
     "text": [
      " 46%|████▌     | 46/100 [06:28<07:39,  8.50s/it]"
     ]
    },
    {
     "name": "stdout",
     "output_type": "stream",
     "text": [
      "All gating outputs shape: torch.Size([60000, 8])\n",
      "All gating outputs on first iteration: tensor([0.4846, 0.0000, 0.0000, 0.0000, 0.0000, 0.5154, 0.0000, 0.0000])\n"
     ]
    },
    {
     "name": "stderr",
     "output_type": "stream",
     "text": [
      " 47%|████▋     | 47/100 [06:37<07:32,  8.53s/it]"
     ]
    },
    {
     "name": "stdout",
     "output_type": "stream",
     "text": [
      "All gating outputs shape: torch.Size([60000, 8])\n",
      "All gating outputs on first iteration: tensor([0.0000, 0.0000, 0.0000, 0.4851, 0.5149, 0.0000, 0.0000, 0.0000])\n"
     ]
    },
    {
     "name": "stderr",
     "output_type": "stream",
     "text": [
      " 48%|████▊     | 48/100 [06:45<07:23,  8.52s/it]"
     ]
    },
    {
     "name": "stdout",
     "output_type": "stream",
     "text": [
      "All gating outputs shape: torch.Size([60000, 8])\n",
      "All gating outputs on first iteration: tensor([0.0000, 0.0000, 0.0000, 0.0000, 0.6276, 0.3724, 0.0000, 0.0000])\n"
     ]
    },
    {
     "name": "stderr",
     "output_type": "stream",
     "text": [
      " 49%|████▉     | 49/100 [06:53<07:12,  8.48s/it]"
     ]
    },
    {
     "name": "stdout",
     "output_type": "stream",
     "text": [
      "All gating outputs shape: torch.Size([60000, 8])\n",
      "All gating outputs on first iteration: tensor([0.0000, 0.0000, 0.0000, 0.6113, 0.0000, 0.0000, 0.3887, 0.0000])\n"
     ]
    },
    {
     "name": "stderr",
     "output_type": "stream",
     "text": [
      " 50%|█████     | 50/100 [07:02<07:04,  8.49s/it]"
     ]
    },
    {
     "name": "stdout",
     "output_type": "stream",
     "text": [
      "All gating outputs shape: torch.Size([60000, 8])\n",
      "All gating outputs on first iteration: tensor([0.3973, 0.0000, 0.0000, 0.0000, 0.0000, 0.0000, 0.6027, 0.0000])\n"
     ]
    },
    {
     "name": "stderr",
     "output_type": "stream",
     "text": [
      " 51%|█████     | 51/100 [07:10<06:55,  8.48s/it]"
     ]
    },
    {
     "name": "stdout",
     "output_type": "stream",
     "text": [
      "Epoch: 50 done. Test loss 2.2306. Test accuracy 0.2257\n",
      "All gating outputs shape: torch.Size([60000, 8])\n",
      "All gating outputs on first iteration: tensor([0.0000, 0.5387, 0.0000, 0.0000, 0.0000, 0.0000, 0.4613, 0.0000])\n"
     ]
    },
    {
     "name": "stderr",
     "output_type": "stream",
     "text": [
      " 52%|█████▏    | 52/100 [07:19<06:43,  8.42s/it]"
     ]
    },
    {
     "name": "stdout",
     "output_type": "stream",
     "text": [
      "All gating outputs shape: torch.Size([60000, 8])\n",
      "All gating outputs on first iteration: tensor([0.3109, 0.0000, 0.6891, 0.0000, 0.0000, 0.0000, 0.0000, 0.0000])\n"
     ]
    },
    {
     "name": "stderr",
     "output_type": "stream",
     "text": [
      " 53%|█████▎    | 53/100 [07:27<06:32,  8.36s/it]"
     ]
    },
    {
     "name": "stdout",
     "output_type": "stream",
     "text": [
      "All gating outputs shape: torch.Size([60000, 8])\n",
      "All gating outputs on first iteration: tensor([0.0000, 0.4424, 0.0000, 0.0000, 0.5576, 0.0000, 0.0000, 0.0000])\n"
     ]
    },
    {
     "name": "stderr",
     "output_type": "stream",
     "text": [
      " 54%|█████▍    | 54/100 [07:35<06:25,  8.39s/it]"
     ]
    },
    {
     "name": "stdout",
     "output_type": "stream",
     "text": [
      "All gating outputs shape: torch.Size([60000, 8])\n",
      "All gating outputs on first iteration: tensor([0.0000, 0.0000, 0.0000, 0.0000, 0.4461, 0.5539, 0.0000, 0.0000])\n"
     ]
    },
    {
     "name": "stderr",
     "output_type": "stream",
     "text": [
      " 55%|█████▌    | 55/100 [07:44<06:15,  8.34s/it]"
     ]
    },
    {
     "name": "stdout",
     "output_type": "stream",
     "text": [
      "All gating outputs shape: torch.Size([60000, 8])\n",
      "All gating outputs on first iteration: tensor([0.0000, 0.0000, 0.0000, 0.4082, 0.0000, 0.0000, 0.5918, 0.0000])\n"
     ]
    },
    {
     "name": "stderr",
     "output_type": "stream",
     "text": [
      " 56%|█████▌    | 56/100 [07:52<06:04,  8.28s/it]"
     ]
    },
    {
     "name": "stdout",
     "output_type": "stream",
     "text": [
      "All gating outputs shape: torch.Size([60000, 8])\n",
      "All gating outputs on first iteration: tensor([0.0000, 0.0000, 0.5867, 0.4133, 0.0000, 0.0000, 0.0000, 0.0000])\n"
     ]
    },
    {
     "name": "stderr",
     "output_type": "stream",
     "text": [
      " 57%|█████▋    | 57/100 [08:00<05:56,  8.28s/it]"
     ]
    },
    {
     "name": "stdout",
     "output_type": "stream",
     "text": [
      "All gating outputs shape: torch.Size([60000, 8])\n",
      "All gating outputs on first iteration: tensor([0.0000, 0.0000, 0.0000, 0.0000, 0.0000, 0.0000, 0.3811, 0.6189])\n"
     ]
    },
    {
     "name": "stderr",
     "output_type": "stream",
     "text": [
      " 58%|█████▊    | 58/100 [08:08<05:46,  8.25s/it]"
     ]
    },
    {
     "name": "stdout",
     "output_type": "stream",
     "text": [
      "All gating outputs shape: torch.Size([60000, 8])\n",
      "All gating outputs on first iteration: tensor([0.0000, 0.5983, 0.0000, 0.0000, 0.4017, 0.0000, 0.0000, 0.0000])\n"
     ]
    },
    {
     "name": "stderr",
     "output_type": "stream",
     "text": [
      " 59%|█████▉    | 59/100 [08:16<05:37,  8.23s/it]"
     ]
    },
    {
     "name": "stdout",
     "output_type": "stream",
     "text": [
      "All gating outputs shape: torch.Size([60000, 8])\n",
      "All gating outputs on first iteration: tensor([0.0000, 0.0000, 0.5995, 0.0000, 0.0000, 0.4005, 0.0000, 0.0000])\n"
     ]
    },
    {
     "name": "stderr",
     "output_type": "stream",
     "text": [
      " 60%|██████    | 60/100 [08:25<05:30,  8.27s/it]"
     ]
    },
    {
     "name": "stdout",
     "output_type": "stream",
     "text": [
      "All gating outputs shape: torch.Size([60000, 8])\n",
      "All gating outputs on first iteration: tensor([0.6061, 0.0000, 0.0000, 0.0000, 0.3939, 0.0000, 0.0000, 0.0000])\n"
     ]
    },
    {
     "name": "stderr",
     "output_type": "stream",
     "text": [
      " 61%|██████    | 61/100 [08:33<05:23,  8.30s/it]"
     ]
    },
    {
     "name": "stdout",
     "output_type": "stream",
     "text": [
      "Epoch: 60 done. Test loss 2.2057. Test accuracy 0.2395\n",
      "All gating outputs shape: torch.Size([60000, 8])\n",
      "All gating outputs on first iteration: tensor([0.0000, 0.0000, 0.0000, 0.0000, 0.4823, 0.0000, 0.0000, 0.5177])\n"
     ]
    },
    {
     "name": "stderr",
     "output_type": "stream",
     "text": [
      " 62%|██████▏   | 62/100 [08:41<05:14,  8.28s/it]"
     ]
    },
    {
     "name": "stdout",
     "output_type": "stream",
     "text": [
      "All gating outputs shape: torch.Size([60000, 8])\n",
      "All gating outputs on first iteration: tensor([0.0000, 0.0000, 0.3849, 0.0000, 0.0000, 0.0000, 0.0000, 0.6151])\n"
     ]
    },
    {
     "name": "stderr",
     "output_type": "stream",
     "text": [
      " 63%|██████▎   | 63/100 [08:50<05:07,  8.32s/it]"
     ]
    },
    {
     "name": "stdout",
     "output_type": "stream",
     "text": [
      "All gating outputs shape: torch.Size([60000, 8])\n",
      "All gating outputs on first iteration: tensor([0.2954, 0.0000, 0.0000, 0.7046, 0.0000, 0.0000, 0.0000, 0.0000])\n"
     ]
    },
    {
     "name": "stderr",
     "output_type": "stream",
     "text": [
      " 64%|██████▍   | 64/100 [08:58<04:59,  8.31s/it]"
     ]
    },
    {
     "name": "stdout",
     "output_type": "stream",
     "text": [
      "All gating outputs shape: torch.Size([60000, 8])\n",
      "All gating outputs on first iteration: tensor([0.0000, 0.0000, 0.0000, 0.9155, 0.0845, 0.0000, 0.0000, 0.0000])\n"
     ]
    },
    {
     "name": "stderr",
     "output_type": "stream",
     "text": [
      " 65%|██████▌   | 65/100 [09:06<04:50,  8.30s/it]"
     ]
    },
    {
     "name": "stdout",
     "output_type": "stream",
     "text": [
      "All gating outputs shape: torch.Size([60000, 8])\n",
      "All gating outputs on first iteration: tensor([0.2775, 0.0000, 0.0000, 0.7225, 0.0000, 0.0000, 0.0000, 0.0000])\n"
     ]
    },
    {
     "name": "stderr",
     "output_type": "stream",
     "text": [
      " 66%|██████▌   | 66/100 [09:15<04:42,  8.30s/it]"
     ]
    },
    {
     "name": "stdout",
     "output_type": "stream",
     "text": [
      "All gating outputs shape: torch.Size([60000, 8])\n",
      "All gating outputs on first iteration: tensor([0.0000, 0.0000, 0.0000, 0.0000, 0.3657, 0.6343, 0.0000, 0.0000])\n"
     ]
    },
    {
     "name": "stderr",
     "output_type": "stream",
     "text": [
      " 67%|██████▋   | 67/100 [09:23<04:32,  8.27s/it]"
     ]
    },
    {
     "name": "stdout",
     "output_type": "stream",
     "text": [
      "All gating outputs shape: torch.Size([60000, 8])\n",
      "All gating outputs on first iteration: tensor([0.0000, 0.0000, 0.0000, 0.1694, 0.8306, 0.0000, 0.0000, 0.0000])\n"
     ]
    },
    {
     "name": "stderr",
     "output_type": "stream",
     "text": [
      " 68%|██████▊   | 68/100 [09:32<04:31,  8.49s/it]"
     ]
    },
    {
     "name": "stdout",
     "output_type": "stream",
     "text": [
      "All gating outputs shape: torch.Size([60000, 8])\n",
      "All gating outputs on first iteration: tensor([0.0000, 0.0000, 0.0000, 0.5353, 0.0000, 0.0000, 0.0000, 0.4647])\n"
     ]
    },
    {
     "name": "stderr",
     "output_type": "stream",
     "text": [
      " 69%|██████▉   | 69/100 [09:41<04:30,  8.71s/it]"
     ]
    },
    {
     "name": "stdout",
     "output_type": "stream",
     "text": [
      "All gating outputs shape: torch.Size([60000, 8])\n",
      "All gating outputs on first iteration: tensor([0.0000, 0.0000, 0.0000, 0.7903, 0.0000, 0.0000, 0.0000, 0.2097])\n"
     ]
    },
    {
     "name": "stderr",
     "output_type": "stream",
     "text": [
      " 70%|███████   | 70/100 [09:50<04:19,  8.66s/it]"
     ]
    },
    {
     "name": "stdout",
     "output_type": "stream",
     "text": [
      "All gating outputs shape: torch.Size([60000, 8])\n",
      "All gating outputs on first iteration: tensor([0.0000, 0.0000, 0.0000, 0.0000, 0.0000, 0.3465, 0.6535, 0.0000])\n"
     ]
    },
    {
     "name": "stderr",
     "output_type": "stream",
     "text": [
      " 71%|███████   | 71/100 [09:58<04:11,  8.66s/it]"
     ]
    },
    {
     "name": "stdout",
     "output_type": "stream",
     "text": [
      "Epoch: 70 done. Test loss 2.1719. Test accuracy 0.2580\n",
      "All gating outputs shape: torch.Size([60000, 8])\n",
      "All gating outputs on first iteration: tensor([0.1903, 0.0000, 0.0000, 0.8097, 0.0000, 0.0000, 0.0000, 0.0000])\n"
     ]
    },
    {
     "name": "stderr",
     "output_type": "stream",
     "text": [
      " 72%|███████▏  | 72/100 [10:07<04:01,  8.64s/it]"
     ]
    },
    {
     "name": "stdout",
     "output_type": "stream",
     "text": [
      "All gating outputs shape: torch.Size([60000, 8])\n",
      "All gating outputs on first iteration: tensor([0.6885, 0.0000, 0.3115, 0.0000, 0.0000, 0.0000, 0.0000, 0.0000])\n"
     ]
    },
    {
     "name": "stderr",
     "output_type": "stream",
     "text": [
      " 73%|███████▎  | 73/100 [10:15<03:50,  8.52s/it]"
     ]
    },
    {
     "name": "stdout",
     "output_type": "stream",
     "text": [
      "All gating outputs shape: torch.Size([60000, 8])\n",
      "All gating outputs on first iteration: tensor([0.0000, 0.5615, 0.0000, 0.0000, 0.0000, 0.4385, 0.0000, 0.0000])\n"
     ]
    },
    {
     "name": "stderr",
     "output_type": "stream",
     "text": [
      " 74%|███████▍  | 74/100 [10:25<03:53,  8.99s/it]"
     ]
    },
    {
     "name": "stdout",
     "output_type": "stream",
     "text": [
      "All gating outputs shape: torch.Size([60000, 8])\n",
      "All gating outputs on first iteration: tensor([0.0000, 0.0000, 0.0000, 0.0000, 0.0000, 0.0000, 0.4723, 0.5277])\n"
     ]
    },
    {
     "name": "stderr",
     "output_type": "stream",
     "text": [
      " 75%|███████▌  | 75/100 [10:35<03:50,  9.22s/it]"
     ]
    },
    {
     "name": "stdout",
     "output_type": "stream",
     "text": [
      "All gating outputs shape: torch.Size([60000, 8])\n",
      "All gating outputs on first iteration: tensor([0.0000, 0.0000, 0.0000, 0.0000, 0.0000, 0.0000, 0.5609, 0.4391])\n"
     ]
    },
    {
     "name": "stderr",
     "output_type": "stream",
     "text": [
      " 76%|███████▌  | 76/100 [10:43<03:35,  8.98s/it]"
     ]
    },
    {
     "name": "stdout",
     "output_type": "stream",
     "text": [
      "All gating outputs shape: torch.Size([60000, 8])\n",
      "All gating outputs on first iteration: tensor([0.0000, 0.0000, 0.0000, 0.4096, 0.0000, 0.0000, 0.0000, 0.5904])\n"
     ]
    },
    {
     "name": "stderr",
     "output_type": "stream",
     "text": [
      " 77%|███████▋  | 77/100 [10:52<03:25,  8.93s/it]"
     ]
    },
    {
     "name": "stdout",
     "output_type": "stream",
     "text": [
      "All gating outputs shape: torch.Size([60000, 8])\n",
      "All gating outputs on first iteration: tensor([0.0000, 0.0000, 0.0000, 0.0000, 0.4634, 0.5366, 0.0000, 0.0000])\n"
     ]
    },
    {
     "name": "stderr",
     "output_type": "stream",
     "text": [
      " 78%|███████▊  | 78/100 [11:01<03:14,  8.85s/it]"
     ]
    },
    {
     "name": "stdout",
     "output_type": "stream",
     "text": [
      "All gating outputs shape: torch.Size([60000, 8])\n",
      "All gating outputs on first iteration: tensor([0.5713, 0.0000, 0.0000, 0.0000, 0.0000, 0.0000, 0.0000, 0.4287])\n"
     ]
    },
    {
     "name": "stderr",
     "output_type": "stream",
     "text": [
      " 79%|███████▉  | 79/100 [11:09<03:02,  8.70s/it]"
     ]
    },
    {
     "name": "stdout",
     "output_type": "stream",
     "text": [
      "All gating outputs shape: torch.Size([60000, 8])\n",
      "All gating outputs on first iteration: tensor([0.0000, 0.0000, 0.3536, 0.0000, 0.0000, 0.0000, 0.0000, 0.6464])\n"
     ]
    },
    {
     "name": "stderr",
     "output_type": "stream",
     "text": [
      " 80%|████████  | 80/100 [11:17<02:50,  8.54s/it]"
     ]
    },
    {
     "name": "stdout",
     "output_type": "stream",
     "text": [
      "All gating outputs shape: torch.Size([60000, 8])\n",
      "All gating outputs on first iteration: tensor([0.0000, 0.0000, 0.3654, 0.0000, 0.0000, 0.0000, 0.0000, 0.6346])\n"
     ]
    },
    {
     "name": "stderr",
     "output_type": "stream",
     "text": [
      " 81%|████████  | 81/100 [11:25<02:40,  8.43s/it]"
     ]
    },
    {
     "name": "stdout",
     "output_type": "stream",
     "text": [
      "Epoch: 80 done. Test loss 2.1332. Test accuracy 0.2739\n",
      "All gating outputs shape: torch.Size([60000, 8])\n",
      "All gating outputs on first iteration: tensor([0.0000, 0.0000, 0.0000, 0.7834, 0.0000, 0.0000, 0.0000, 0.2166])\n"
     ]
    },
    {
     "name": "stderr",
     "output_type": "stream",
     "text": [
      " 82%|████████▏ | 82/100 [11:34<02:30,  8.35s/it]"
     ]
    },
    {
     "name": "stdout",
     "output_type": "stream",
     "text": [
      "All gating outputs shape: torch.Size([60000, 8])\n",
      "All gating outputs on first iteration: tensor([0.0000, 0.0000, 0.0000, 0.4005, 0.0000, 0.5995, 0.0000, 0.0000])\n"
     ]
    },
    {
     "name": "stderr",
     "output_type": "stream",
     "text": [
      " 83%|████████▎ | 83/100 [11:42<02:20,  8.24s/it]"
     ]
    },
    {
     "name": "stdout",
     "output_type": "stream",
     "text": [
      "All gating outputs shape: torch.Size([60000, 8])\n",
      "All gating outputs on first iteration: tensor([0.0000, 0.0000, 0.6143, 0.0000, 0.0000, 0.0000, 0.3857, 0.0000])\n"
     ]
    },
    {
     "name": "stderr",
     "output_type": "stream",
     "text": [
      " 84%|████████▍ | 84/100 [11:50<02:11,  8.20s/it]"
     ]
    },
    {
     "name": "stdout",
     "output_type": "stream",
     "text": [
      "All gating outputs shape: torch.Size([60000, 8])\n",
      "All gating outputs on first iteration: tensor([0.0000, 0.0000, 0.5038, 0.0000, 0.4962, 0.0000, 0.0000, 0.0000])\n"
     ]
    },
    {
     "name": "stderr",
     "output_type": "stream",
     "text": [
      " 85%|████████▌ | 85/100 [11:58<02:01,  8.13s/it]"
     ]
    },
    {
     "name": "stdout",
     "output_type": "stream",
     "text": [
      "All gating outputs shape: torch.Size([60000, 8])\n",
      "All gating outputs on first iteration: tensor([0.0000, 0.0000, 0.0000, 0.0000, 0.0000, 0.6449, 0.3551, 0.0000])\n"
     ]
    },
    {
     "name": "stderr",
     "output_type": "stream",
     "text": [
      " 86%|████████▌ | 86/100 [12:06<01:54,  8.17s/it]"
     ]
    },
    {
     "name": "stdout",
     "output_type": "stream",
     "text": [
      "All gating outputs shape: torch.Size([60000, 8])\n",
      "All gating outputs on first iteration: tensor([0.0000, 0.0000, 0.0000, 0.0000, 0.6014, 0.0000, 0.3986, 0.0000])\n"
     ]
    },
    {
     "name": "stderr",
     "output_type": "stream",
     "text": [
      " 87%|████████▋ | 87/100 [12:14<01:46,  8.19s/it]"
     ]
    },
    {
     "name": "stdout",
     "output_type": "stream",
     "text": [
      "All gating outputs shape: torch.Size([60000, 8])\n",
      "All gating outputs on first iteration: tensor([0.0000, 0.0000, 0.0000, 0.0000, 0.0000, 0.0000, 0.4809, 0.5191])\n"
     ]
    },
    {
     "name": "stderr",
     "output_type": "stream",
     "text": [
      " 88%|████████▊ | 88/100 [12:22<01:37,  8.14s/it]"
     ]
    },
    {
     "name": "stdout",
     "output_type": "stream",
     "text": [
      "All gating outputs shape: torch.Size([60000, 8])\n",
      "All gating outputs on first iteration: tensor([0.0000, 0.0000, 0.0000, 0.4455, 0.0000, 0.0000, 0.0000, 0.5545])\n"
     ]
    },
    {
     "name": "stderr",
     "output_type": "stream",
     "text": [
      " 89%|████████▉ | 89/100 [12:30<01:28,  8.09s/it]"
     ]
    },
    {
     "name": "stdout",
     "output_type": "stream",
     "text": [
      "All gating outputs shape: torch.Size([60000, 8])\n",
      "All gating outputs on first iteration: tensor([0.0000, 0.0000, 0.0000, 0.5624, 0.4376, 0.0000, 0.0000, 0.0000])\n"
     ]
    },
    {
     "name": "stderr",
     "output_type": "stream",
     "text": [
      " 90%|█████████ | 90/100 [12:38<01:20,  8.04s/it]"
     ]
    },
    {
     "name": "stdout",
     "output_type": "stream",
     "text": [
      "All gating outputs shape: torch.Size([60000, 8])\n",
      "All gating outputs on first iteration: tensor([0.0000, 0.0000, 0.0000, 0.0000, 0.0000, 0.5419, 0.4581, 0.0000])\n"
     ]
    },
    {
     "name": "stderr",
     "output_type": "stream",
     "text": [
      " 91%|█████████ | 91/100 [12:46<01:12,  8.01s/it]"
     ]
    },
    {
     "name": "stdout",
     "output_type": "stream",
     "text": [
      "Epoch: 90 done. Test loss 2.0999. Test accuracy 0.2927\n",
      "All gating outputs shape: torch.Size([60000, 8])\n",
      "All gating outputs on first iteration: tensor([0.0000, 0.0000, 0.0000, 0.6850, 0.0000, 0.0000, 0.3150, 0.0000])\n"
     ]
    },
    {
     "name": "stderr",
     "output_type": "stream",
     "text": [
      " 92%|█████████▏| 92/100 [12:56<01:07,  8.49s/it]"
     ]
    },
    {
     "name": "stdout",
     "output_type": "stream",
     "text": [
      "All gating outputs shape: torch.Size([60000, 8])\n",
      "All gating outputs on first iteration: tensor([0.0000, 0.0000, 0.0000, 0.7116, 0.0000, 0.0000, 0.2884, 0.0000])\n"
     ]
    },
    {
     "name": "stderr",
     "output_type": "stream",
     "text": [
      " 93%|█████████▎| 93/100 [13:07<01:04,  9.24s/it]"
     ]
    },
    {
     "name": "stdout",
     "output_type": "stream",
     "text": [
      "All gating outputs shape: torch.Size([60000, 8])\n",
      "All gating outputs on first iteration: tensor([0.0000, 0.0000, 0.0000, 0.4980, 0.0000, 0.0000, 0.0000, 0.5020])\n"
     ]
    },
    {
     "name": "stderr",
     "output_type": "stream",
     "text": [
      " 94%|█████████▍| 94/100 [13:19<01:01, 10.22s/it]"
     ]
    },
    {
     "name": "stdout",
     "output_type": "stream",
     "text": [
      "All gating outputs shape: torch.Size([60000, 8])\n",
      "All gating outputs on first iteration: tensor([0.0000, 0.0000, 0.0000, 0.6062, 0.0000, 0.3938, 0.0000, 0.0000])\n"
     ]
    },
    {
     "name": "stderr",
     "output_type": "stream",
     "text": [
      " 95%|█████████▌| 95/100 [13:32<00:54, 10.89s/it]"
     ]
    },
    {
     "name": "stdout",
     "output_type": "stream",
     "text": [
      "All gating outputs shape: torch.Size([60000, 8])\n",
      "All gating outputs on first iteration: tensor([0.0000, 0.0000, 0.0000, 0.7076, 0.2924, 0.0000, 0.0000, 0.0000])\n"
     ]
    },
    {
     "name": "stderr",
     "output_type": "stream",
     "text": [
      " 96%|█████████▌| 96/100 [13:43<00:44, 11.15s/it]"
     ]
    },
    {
     "name": "stdout",
     "output_type": "stream",
     "text": [
      "All gating outputs shape: torch.Size([60000, 8])\n",
      "All gating outputs on first iteration: tensor([0.0000, 0.0000, 0.0000, 0.4976, 0.0000, 0.5024, 0.0000, 0.0000])\n"
     ]
    },
    {
     "name": "stderr",
     "output_type": "stream",
     "text": [
      " 97%|█████████▋| 97/100 [13:56<00:35, 11.67s/it]"
     ]
    },
    {
     "name": "stdout",
     "output_type": "stream",
     "text": [
      "All gating outputs shape: torch.Size([60000, 8])\n",
      "All gating outputs on first iteration: tensor([0.0000, 0.3009, 0.0000, 0.0000, 0.0000, 0.6991, 0.0000, 0.0000])\n"
     ]
    },
    {
     "name": "stderr",
     "output_type": "stream",
     "text": [
      " 98%|█████████▊| 98/100 [14:07<00:22, 11.44s/it]"
     ]
    },
    {
     "name": "stdout",
     "output_type": "stream",
     "text": [
      "All gating outputs shape: torch.Size([60000, 8])\n",
      "All gating outputs on first iteration: tensor([0.0000, 0.0000, 0.0000, 0.4165, 0.0000, 0.0000, 0.0000, 0.5835])\n"
     ]
    },
    {
     "name": "stderr",
     "output_type": "stream",
     "text": [
      " 99%|█████████▉| 99/100 [14:17<00:10, 10.98s/it]"
     ]
    },
    {
     "name": "stdout",
     "output_type": "stream",
     "text": [
      "All gating outputs shape: torch.Size([60000, 8])\n",
      "All gating outputs on first iteration: tensor([0.0000, 0.0000, 0.0000, 0.0000, 0.0000, 0.0000, 0.3761, 0.6239])\n"
     ]
    },
    {
     "name": "stderr",
     "output_type": "stream",
     "text": [
      "100%|██████████| 100/100 [14:27<00:00,  8.67s/it]\n"
     ]
    }
   ],
   "source": [
    "training_start = time.time()\n",
    "\n",
    "training_loss, training_accuracy, test_loss, test_accuracy, expert_utilization_history = \\\n",
    "    training_loop(\n",
    "        train_loader=train_loader, \n",
    "        test_loader=test_loader, \n",
    "        num_epochs=EPOCHS, \n",
    "        model=moe, \n",
    "        loss_function=loss, \n",
    "        optimizer=optimizer)\n",
    "\n",
    "training_end = time.time()\n",
    "training_duration = training_end-training_start"
   ]
  },
  {
   "cell_type": "code",
   "execution_count": 13,
   "id": "85fa74d2",
   "metadata": {},
   "outputs": [],
   "source": [
    "# Training test plot curve code that was provided in assignment 1 to get the plots\n",
    "def training_curve_plot(title, train_costs, test_costs, train_accuracy, test_accuracy, batch_size, learning_rate, training_time, epochs):\n",
    "    \"\"\"Plots the train-test cost and accuracy curve\"\"\"\n",
    "    lg=18\n",
    "    md=13\n",
    "    sm=9\n",
    "    \n",
    "    fig, axs = plt.subplots(1, 2, figsize=(12, 4))\n",
    "    fig.suptitle(title, y=1.15, fontsize=lg)\n",
    "    \n",
    "    ## Add subtitle with hyperparameters and training time\n",
    "    sub = f'| Batch size:{batch_size} | Learning rate:{learning_rate} | Number of Epochs:{epochs} | Training Time:{round(training_time)}sec |'\n",
    "    fig.text(0.5, 0.99, sub, ha='center', fontsize=md)\n",
    "    \n",
    "    x = range(1, len(train_costs)+1)\n",
    "    \n",
    "    ## Cost/Loss subplot\n",
    "    axs[0].plot(x, train_costs, label=f'Final train cost: {train_costs[-1]:.4f}')\n",
    "    axs[0].plot(x, test_costs, label=f'Final test cost: {test_costs[-1]:.4f}')\n",
    "    axs[0].set_title('Costs', fontsize=md)\n",
    "    axs[0].set_xlabel('Epochs', fontsize=md)\n",
    "    axs[0].set_ylabel('Cost', fontsize=md)\n",
    "    axs[0].legend(fontsize=sm)\n",
    "    axs[0].tick_params(axis='both', labelsize=sm)\n",
    "    #axs[0].set_yscale('log') # Optionally use a logarithmic y-scale\n",
    "    \n",
    "    ## Accuracy subplot\n",
    "    axs[1].plot(x, train_accuracy, label=f'Final train accuracy: {100*train_accuracy[-1]:.2f}%')\n",
    "    axs[1].plot(x, test_accuracy, label=f'Final test accuracy: {100*test_accuracy[-1]:.2f}%')\n",
    "    axs[1].set_title('Accuracy', fontsize=md)\n",
    "    axs[1].set_xlabel('Epochs', fontsize=md)\n",
    "    axs[1].set_ylabel('Accuracy (%)', fontsize=sm)\n",
    "    axs[1].legend(fontsize=sm)\n",
    "    axs[1].tick_params(axis='both', labelsize=sm)\n",
    "    \n",
    "    \n",
    "def plot_utilization_histogram(\n",
    "    epochs_to_plot: list[int],\n",
    "    utilization_data: dict[int, np.ndarray],\n",
    "    expert_names: list[str] = None,\n",
    "    figsize: tuple[int, int] = (12, 4)\n",
    "):\n",
    "    \"\"\"Creates a series of bar plots showing expert utilization for specified epochs.\"\"\"\n",
    "    num_epochs = len(epochs_to_plot)\n",
    "\n",
    "    if num_epochs == 0:\n",
    "        print(\"No epochs to plot.\")\n",
    "        return\n",
    "\n",
    "    # Use a single row layout for simplicity\n",
    "    fig, axes = plt.subplots(\n",
    "        nrows=1,\n",
    "        ncols=num_epochs,\n",
    "        figsize=(figsize[0], figsize[1]),\n",
    "        sharey=True # Share the y-axis (0-1 range)\n",
    "    )\n",
    "\n",
    "    # If there is only one subplot, axes is not an array, so make it one\n",
    "    if num_epochs == 1:\n",
    "        axes = [axes]\n",
    "\n",
    "    # Determine expert names if not provided\n",
    "    first_epoch_data = utilization_data[epochs_to_plot[0]]\n",
    "    num_experts = len(first_epoch_data)\n",
    "    if expert_names is None:\n",
    "        expert_names = [f'Expert {i}' for i in range(num_experts)]\n",
    "\n",
    "    x = np.arange(num_experts) # the label locations\n",
    "    width = 0.8 # the width of the bars\n",
    "\n",
    "    for ax, epoch in zip(axes, epochs_to_plot):\n",
    "        utilization = utilization_data.get(epoch)\n",
    "\n",
    "        if utilization is None:\n",
    "            print(f\"Warning: No data found for epoch {epoch}. Skipping.\")\n",
    "            continue\n",
    "\n",
    "        # Create the bar plot\n",
    "        ax.bar(x, utilization, width, color='skyblue', edgecolor='black')\n",
    "\n",
    "        # Set title and labels\n",
    "        ax.set_title(f'Epoch {epoch}', fontsize=12)\n",
    "        ax.set_xticks(x)\n",
    "        ax.set_xticklabels(expert_names, rotation=45, ha='right')\n",
    "        ax.set_ylim(0, 1.0) # Set the y-limit from 0 to 1 as requested\n",
    "        ax.tick_params(axis='x', labelsize=10)\n",
    "        ax.tick_params(axis='y', labelsize=10)\n",
    "\n",
    "        # Only set y-label on the first subplot\n",
    "        if ax == axes[0]:\n",
    "            ax.set_ylabel('Average Utilization (0 to 1)', fontsize=10)\n",
    "\n",
    "        # Add utilization values on top of the bars\n",
    "        for i, val in enumerate(utilization):\n",
    "            ax.text(x[i], val + 0.02, f'{val:.2f}', ha='center', va='bottom', fontsize=8)\n",
    "\n",
    "    # Adjust layout to prevent overlap\n",
    "    plt.tight_layout()\n",
    "    plt.suptitle('Expert Utilization Across Epochs', y=1.02, fontsize=14, fontweight='bold')\n",
    "    #plt.savefig('expert_utilization_plot.png')\n",
    "    plt.close(fig)\n",
    "\n",
    "\n",
    "def plot_utilization_trends(\n",
    "    epochs_to_plot: list[int],\n",
    "    utilization_data: dict[int, np.ndarray],\n",
    "    expert_names: list[str] = None,\n",
    "    figsize: tuple[int, int] = (10, 6)\n",
    "):\n",
    "    \"\"\"Creates a line/scatterplot showing the utilization trend of each expert across the specified epochs.\"\"\"\n",
    "    if not epochs_to_plot:\n",
    "        print(\"No epochs to plot.\")\n",
    "        return\n",
    "\n",
    "    # Filter and sort epochs for which we have data\n",
    "    valid_epochs = sorted([e for e in epochs_to_plot if e in utilization_data])\n",
    "\n",
    "    if not valid_epochs:\n",
    "        print(\"No valid utilization data found for the specified epochs.\")\n",
    "        return\n",
    "\n",
    "    # Collect all utilization arrays in valid epoch order\n",
    "    all_utilizations = [utilization_data[e] for e in valid_epochs]\n",
    "\n",
    "    # Stack them vertically (rows are epochs, columns are experts)\n",
    "    utilization_matrix = np.vstack(all_utilizations)\n",
    "\n",
    "    # Transpose to get (rows are experts, columns are epochs)\n",
    "    expert_utilization_trends = utilization_matrix.T\n",
    "\n",
    "    num_experts = expert_utilization_trends.shape[0]\n",
    "\n",
    "    # Determine expert names if not provided\n",
    "    if expert_names is None:\n",
    "        expert_names = [f'Expert {i}' for i in range(num_experts)]\n",
    "    elif len(expert_names) != num_experts:\n",
    "        print(f\"Warning: Expert names list length ({len(expert_names)}) does not match number of experts ({num_experts}). Using default names.\")\n",
    "        expert_names = [f'Expert {i}' for i in range(num_experts)]\n",
    "\n",
    "    fig, ax = plt.subplots(figsize=figsize)\n",
    "\n",
    "    for i in range(num_experts):\n",
    "        expert_data = expert_utilization_trends[i]\n",
    "        expert_name = expert_names[i]\n",
    "\n",
    "        # Plot line and scatter points\n",
    "        ax.plot(valid_epochs, expert_data, label=expert_name, marker='o', linestyle='-')\n",
    "\n",
    "    ax.set_title('Expert Utilization Trends Across Epochs', fontsize=14, fontweight='bold')\n",
    "    ax.set_xlabel('Epoch', fontsize=12)\n",
    "    ax.set_ylabel('Average Utilization (0 to 1)', fontsize=12)\n",
    "\n",
    "    # Set x-ticks to be only the plotted epoch numbers\n",
    "    ax.set_xticks(valid_epochs)\n",
    "\n",
    "    # Ensure y-axis is from 0 to 1\n",
    "    ax.set_ylim(0, 1.0)\n",
    "\n",
    "    # Add legend\n",
    "    ax.legend(title=\"Experts\", loc='best', fontsize=10)\n",
    "\n",
    "    # Add grid for better readability\n",
    "    ax.grid(True, linestyle='--', alpha=0.6)\n",
    "\n",
    "    plt.tight_layout()\n",
    "    #plt.savefig('expert_utilization_trends.png')\n",
    "    plt.close(fig)\n",
    "    \n",
    "    import numpy as np\n",
    "import matplotlib.pyplot as plt\n",
    "\n",
    "def plot_utilization_histogram(\n",
    "    epochs_to_plot: list[int],\n",
    "    utilization_data: list[np.ndarray],\n",
    "    expert_names: list[str] = None,\n",
    "    figsize: tuple[int, int] = (12, 4)\n",
    "):\n",
    "    \"\"\"Creates a series of bar plots showing expert utilization for specified epochs.\"\"\"\n",
    "    num_epochs = len(epochs_to_plot)\n",
    "    # Get used data from overall utilization history\n",
    "    utilization_data = [utilization_data[i] for i in epochs_to_plot]\n",
    "\n",
    "    if num_epochs == 0:\n",
    "        print(\"No epochs to plot.\")\n",
    "        return\n",
    "\n",
    "    # Check for data consistency\n",
    "    if len(utilization_data) != num_epochs:\n",
    "        print(f\"Error: Number of epochs to plot ({num_epochs}) does not match number of utilization data arrays ({len(utilization_data)}).\")\n",
    "        return\n",
    "\n",
    "    # Use a single row layout for simplicity\n",
    "    fig, axes = plt.subplots(\n",
    "        nrows=1,\n",
    "        ncols=num_epochs,\n",
    "        figsize=(figsize[0], figsize[1]),\n",
    "        sharey=True # Share the y-axis (0-1 range)\n",
    "    )\n",
    "\n",
    "    # If there is only one subplot, axes is not an array, so make it one\n",
    "    if num_epochs == 1:\n",
    "        axes = np.array([axes]) # Use np.array for consistent iteration\n",
    "\n",
    "    # Determine expert names if not provided\n",
    "    first_epoch_data = utilization_data[0]\n",
    "    num_experts = len(first_epoch_data)\n",
    "    if expert_names is None:\n",
    "        expert_names = [f'Expert {i}' for i in range(num_experts)]\n",
    "\n",
    "    x = np.arange(num_experts) # the label locations\n",
    "    width = 0.8 # the width of the bars\n",
    "\n",
    "    for ax, epoch, utilization in zip(axes, epochs_to_plot, utilization_data):\n",
    "        # The utilization data is now directly available, no dict.get() needed\n",
    "        if utilization is None: # Should not happen if data is well-formed, but good check\n",
    "            print(f\"Warning: Data for epoch {epoch} is None. Skipping.\")\n",
    "            continue\n",
    "\n",
    "        # Create the bar plot\n",
    "        ax.bar(x, utilization, width, color='skyblue', edgecolor='black')\n",
    "\n",
    "        # Set title and labels\n",
    "        ax.set_title(f'Epoch {epoch}', fontsize=12)\n",
    "        ax.set_xticks(x)\n",
    "        ax.set_xticklabels(expert_names, rotation=45, ha='right')\n",
    "        ax.set_ylim(0, 1.0) # Set the y-limit from 0 to 1 as requested\n",
    "        ax.tick_params(axis='x', labelsize=10)\n",
    "        ax.tick_params(axis='y', labelsize=10)\n",
    "\n",
    "        # Only set y-label on the first subplot (axes[0] is the first one)\n",
    "        if ax == axes[0]:\n",
    "            ax.set_ylabel('Average Utilization (0 to 1)', fontsize=10)\n",
    "\n",
    "        # Add utilization values on top of the bars\n",
    "        for i, val in enumerate(utilization):\n",
    "            ax.text(x[i], val + 0.02, f'{val:.2f}', ha='center', va='bottom', fontsize=8)\n",
    "\n",
    "    # Adjust layout to prevent overlap\n",
    "    plt.tight_layout()\n",
    "    plt.suptitle('Expert Utilization Across Epochs', y=1.02, fontsize=14, fontweight='bold')\n",
    "    plt.show()\n",
    "\n",
    "\n",
    "def plot_utilization_trends(\n",
    "    utilization_data: list[np.ndarray],\n",
    "    expert_names: list[str] = None,\n",
    "    figsize: tuple[int, int] = (10, 6)\n",
    "):\n",
    "    \"\"\"Creates a line/scatterplot showing the utilization trend of each expert across the epochs.\"\"\"\n",
    "    \n",
    "    num_epochs = len(utilization_data)\n",
    "\n",
    "    # Stack them vertically (rows are epochs, columns are experts)\n",
    "    # The epochs in valid_epochs now correspond to the rows in the matrix\n",
    "    utilization_matrix = np.vstack(utilization_data)\n",
    "\n",
    "    # Transpose to get (rows are experts, columns are epochs)\n",
    "    expert_utilization_trends = utilization_matrix.T\n",
    "\n",
    "    num_experts = expert_utilization_trends.shape[0]\n",
    "    \n",
    "    # Determine expert names if not provided\n",
    "    if expert_names is None:\n",
    "        expert_names = [f'Expert {i}' for i in range(num_experts)]\n",
    "    elif len(expert_names) != num_experts:\n",
    "        print(f\"Warning: Expert names list length ({len(expert_names)}) does not match number of experts ({num_experts}). Using default names.\")\n",
    "        expert_names = [f'Expert {i}' for i in range(num_experts)]\n",
    "\n",
    "    fig, ax = plt.subplots(figsize=figsize)\n",
    "\n",
    "    for i in range(num_experts):\n",
    "        expert_data = expert_utilization_trends[i]\n",
    "        expert_name = expert_names[i]\n",
    "\n",
    "        # Plot line and scatter points\n",
    "        ax.plot(range(num_epochs), expert_data, label=expert_name, marker='o', linestyle='-')\n",
    "\n",
    "    ax.set_title('Expert Utilization Trends Across Epochs', fontsize=14, fontweight='bold')\n",
    "    ax.set_xlabel('Epoch', fontsize=12)\n",
    "    ax.set_ylabel('Average Utilization (0 to 1)', fontsize=12)\n",
    "\n",
    "    # Set x-ticks to be only the plotted epoch numbers\n",
    "    ax.set_xticks(range(0, num_epochs, 20))\n",
    "\n",
    "    # Ensure y-axis is from 0 to 1\n",
    "    ax.set_ylim(0, 1.0)\n",
    "\n",
    "    # Add legend\n",
    "    ax.legend(title=\"Experts\", loc='best', fontsize=10)\n",
    "\n",
    "    # Add grid for better readability\n",
    "    ax.grid(True, linestyle='--', alpha=0.6)\n",
    "\n",
    "    plt.tight_layout()\n",
    "    plt.show()"
   ]
  },
  {
   "cell_type": "code",
   "execution_count": 126,
   "id": "0e5f39fc",
   "metadata": {},
   "outputs": [
    {
     "data": {
      "image/png": "[encoded data removed]",
      "text/plain": [
       "<Figure size 1200x400 with 2 Axes>"
      ]
     },
     "metadata": {},
     "output_type": "display_data"
    }
   ],
   "source": [
    "training_curve_plot(\n",
    "    title=\"One Layer HardMoE accuracy and loss\", \n",
    "    train_costs=training_loss, \n",
    "    test_costs=test_loss, \n",
    "    train_accuracy=training_accuracy, \n",
    "    test_accuracy=test_accuracy, \n",
    "    batch_size=BATCH_SIZE, \n",
    "    learning_rate=LEARNING_RATE, \n",
    "    training_time=training_duration, \n",
    "    epochs=EPOCHS)"
   ]
  },
  {
   "cell_type": "code",
   "execution_count": 127,
   "id": "291aeb8a",
   "metadata": {},
   "outputs": [
    {
     "data": {
      "image/png": "[encoded data removed]",
      "text/plain": [
       "<Figure size 1200x400 with 4 Axes>"
      ]
     },
     "metadata": {},
     "output_type": "display_data"
    }
   ],
   "source": [
    "plot_utilization_histogram(\n",
    "    epochs_to_plot=[0, 25, 50, 75], \n",
    "    utilization_data=expert_utilization_history\n",
    ")"
   ]
  },
  {
   "cell_type": "code",
   "execution_count": 128,
   "id": "b1b12d9d",
   "metadata": {},
   "outputs": [
    {
     "data": {
      "image/png": "[encoded data removed]",
      "text/plain": [
       "<Figure size 1000x600 with 1 Axes>"
      ]
     },
     "metadata": {},
     "output_type": "display_data"
    }
   ],
   "source": [
    "plot_utilization_trends(utilization_data=expert_utilization_history)"
   ]
  },
  {
   "cell_type": "markdown",
   "id": "1a19a861",
   "metadata": {},
   "source": [
    "## 4 Evaluation  \n",
    "### 4.1 Set up"
   ]
  },
  {
   "cell_type": "code",
   "execution_count": 18,
   "id": "2aae0674",
   "metadata": {},
   "outputs": [
    {
     "name": "stdout",
     "output_type": "stream",
     "text": [
      "gate.l_1.weight torch.Size([10, 784])\n",
      "gate.l_1.bias torch.Size([10])\n",
      "gate.output.weight torch.Size([8, 10])\n",
      "gate.output.bias torch.Size([8])\n",
      "experts.0.l_1.weight torch.Size([25, 784])\n",
      "experts.0.l_1.bias torch.Size([25])\n",
      "experts.0.output.weight torch.Size([10, 25])\n",
      "experts.0.output.bias torch.Size([10])\n",
      "experts.1.l_1.weight torch.Size([25, 784])\n",
      "experts.1.l_1.bias torch.Size([25])\n",
      "experts.1.output.weight torch.Size([10, 25])\n",
      "experts.1.output.bias torch.Size([10])\n",
      "experts.2.l_1.weight torch.Size([25, 784])\n",
      "experts.2.l_1.bias torch.Size([25])\n",
      "experts.2.output.weight torch.Size([10, 25])\n",
      "experts.2.output.bias torch.Size([10])\n",
      "experts.3.l_1.weight torch.Size([25, 784])\n",
      "experts.3.l_1.bias torch.Size([25])\n",
      "experts.3.output.weight torch.Size([10, 25])\n",
      "experts.3.output.bias torch.Size([10])\n",
      "experts.4.l_1.weight torch.Size([25, 784])\n",
      "experts.4.l_1.bias torch.Size([25])\n",
      "experts.4.output.weight torch.Size([10, 25])\n",
      "experts.4.output.bias torch.Size([10])\n",
      "experts.5.l_1.weight torch.Size([25, 784])\n",
      "experts.5.l_1.bias torch.Size([25])\n",
      "experts.5.output.weight torch.Size([10, 25])\n",
      "experts.5.output.bias torch.Size([10])\n",
      "experts.6.l_1.weight torch.Size([25, 784])\n",
      "experts.6.l_1.bias torch.Size([25])\n",
      "experts.6.output.weight torch.Size([10, 25])\n",
      "experts.6.output.bias torch.Size([10])\n",
      "experts.7.l_1.weight torch.Size([25, 784])\n",
      "experts.7.l_1.bias torch.Size([25])\n",
      "experts.7.output.weight torch.Size([10, 25])\n",
      "experts.7.output.bias torch.Size([10])\n"
     ]
    }
   ],
   "source": [
    "moe.eval()\n",
    "\n",
    "# Access model parameters and nodes\n",
    "for name, param in moe.named_parameters():\n",
    "    print(name, param.shape)\n",
    "#This will not work because this is a HardMoE model so we cut out part of the model with gating topk\n",
    "#print(get_graph_node_names(moe))"
   ]
  },
  {
   "cell_type": "code",
   "execution_count": 19,
   "id": "8642b4a0",
   "metadata": {},
   "outputs": [
    {
     "ename": "TraceError",
     "evalue": "symbolically traced variables cannot be used as inputs to control flow",
     "output_type": "error",
     "traceback": [
      "\u001b[31m---------------------------------------------------------------------------\u001b[39m",
      "\u001b[31mTraceError\u001b[39m                                Traceback (most recent call last)",
      "\u001b[36mCell\u001b[39m\u001b[36m \u001b[39m\u001b[32mIn[19]\u001b[39m\u001b[32m, line 7\u001b[39m\n\u001b[32m      2\u001b[39m return_nodes = {\n\u001b[32m      3\u001b[39m     \u001b[33m\"\u001b[39m\u001b[33mgate.softmax\u001b[39m\u001b[33m\"\u001b[39m : \u001b[33m\"\u001b[39m\u001b[33mprobs\u001b[39m\u001b[33m\"\u001b[39m\n\u001b[32m      4\u001b[39m }\n\u001b[32m      6\u001b[39m \u001b[38;5;66;03m# Geeting the gating network\u001b[39;00m\n\u001b[32m----> \u001b[39m\u001b[32m7\u001b[39m moe_gating = \u001b[43mcreate_feature_extractor\u001b[49m\u001b[43m(\u001b[49m\u001b[43mmoe\u001b[49m\u001b[43m,\u001b[49m\u001b[43m \u001b[49m\u001b[43mreturn_nodes\u001b[49m\u001b[43m=\u001b[49m\u001b[43mreturn_nodes\u001b[49m\u001b[43m)\u001b[49m\n\u001b[32m      8\u001b[39m moe_gating.eval()\n",
      "\u001b[36mFile \u001b[39m\u001b[32m~\\AppData\\Local\\Packages\\PythonSoftwareFoundation.Python.3.13_qbz5n2kfra8p0\\LocalCache\\local-packages\\Python313\\site-packages\\torchvision\\models\\feature_extraction.py:529\u001b[39m, in \u001b[36mcreate_feature_extractor\u001b[39m\u001b[34m(model, return_nodes, train_return_nodes, eval_return_nodes, tracer_kwargs, suppress_diff_warning, concrete_args)\u001b[39m\n\u001b[32m    527\u001b[39m \u001b[38;5;66;03m# Instantiate our NodePathTracer and use that to trace the model\u001b[39;00m\n\u001b[32m    528\u001b[39m tracer = NodePathTracer(**tracer_kwargs)\n\u001b[32m--> \u001b[39m\u001b[32m529\u001b[39m graph = \u001b[43mtracer\u001b[49m\u001b[43m.\u001b[49m\u001b[43mtrace\u001b[49m\u001b[43m(\u001b[49m\u001b[43mmodel\u001b[49m\u001b[43m,\u001b[49m\u001b[43m \u001b[49m\u001b[43mconcrete_args\u001b[49m\u001b[43m=\u001b[49m\u001b[43mconcrete_args\u001b[49m\u001b[43m)\u001b[49m\n\u001b[32m    531\u001b[39m name = model.\u001b[34m__class__\u001b[39m.\u001b[34m__name__\u001b[39m \u001b[38;5;28;01mif\u001b[39;00m \u001b[38;5;28misinstance\u001b[39m(model, nn.Module) \u001b[38;5;28;01melse\u001b[39;00m model.\u001b[34m__name__\u001b[39m\n\u001b[32m    532\u001b[39m graph_module = fx.GraphModule(tracer.root, graph, name)\n",
      "\u001b[36mFile \u001b[39m\u001b[32m~\\AppData\\Local\\Packages\\PythonSoftwareFoundation.Python.3.13_qbz5n2kfra8p0\\LocalCache\\local-packages\\Python313\\site-packages\\torch\\fx\\_symbolic_trace.py:850\u001b[39m, in \u001b[36mTracer.trace\u001b[39m\u001b[34m(self, root, concrete_args)\u001b[39m\n\u001b[32m    843\u001b[39m         \u001b[38;5;28;01mfor\u001b[39;00m module \u001b[38;5;129;01min\u001b[39;00m \u001b[38;5;28mself\u001b[39m._autowrap_search:\n\u001b[32m    844\u001b[39m             _autowrap_check(\n\u001b[32m    845\u001b[39m                 patcher, module.\u001b[34m__dict__\u001b[39m, \u001b[38;5;28mself\u001b[39m._autowrap_function_ids\n\u001b[32m    846\u001b[39m             )\n\u001b[32m    847\u001b[39m         \u001b[38;5;28mself\u001b[39m.create_node(\n\u001b[32m    848\u001b[39m             \u001b[33m\"\u001b[39m\u001b[33moutput\u001b[39m\u001b[33m\"\u001b[39m,\n\u001b[32m    849\u001b[39m             \u001b[33m\"\u001b[39m\u001b[33moutput\u001b[39m\u001b[33m\"\u001b[39m,\n\u001b[32m--> \u001b[39m\u001b[32m850\u001b[39m             (\u001b[38;5;28mself\u001b[39m.create_arg(\u001b[43mfn\u001b[49m\u001b[43m(\u001b[49m\u001b[43m*\u001b[49m\u001b[43margs\u001b[49m\u001b[43m)\u001b[49m),),\n\u001b[32m    851\u001b[39m             {},\n\u001b[32m    852\u001b[39m             type_expr=fn.\u001b[34m__annotations__\u001b[39m.get(\u001b[33m\"\u001b[39m\u001b[33mreturn\u001b[39m\u001b[33m\"\u001b[39m, \u001b[38;5;28;01mNone\u001b[39;00m),\n\u001b[32m    853\u001b[39m         )\n\u001b[32m    855\u001b[39m     \u001b[38;5;28mself\u001b[39m.submodule_paths = \u001b[38;5;28;01mNone\u001b[39;00m\n\u001b[32m    856\u001b[39m \u001b[38;5;28;01mexcept\u001b[39;00m \u001b[38;5;167;01mRuntimeError\u001b[39;00m \u001b[38;5;28;01mas\u001b[39;00m e:\n",
      "\u001b[36mCell\u001b[39m\u001b[36m \u001b[39m\u001b[32mIn[6]\u001b[39m\u001b[32m, line 62\u001b[39m, in \u001b[36mHardMOE.forward\u001b[39m\u001b[34m(self, x)\u001b[39m\n\u001b[32m     60\u001b[39m \u001b[38;5;28;01mdef\u001b[39;00m\u001b[38;5;250m \u001b[39m\u001b[34mforward\u001b[39m(\u001b[38;5;28mself\u001b[39m, x):\n\u001b[32m     61\u001b[39m     \u001b[38;5;66;03m# if B = batch_size, N = expert_num, D_out = expert output dimension\u001b[39;00m\n\u001b[32m---> \u001b[39m\u001b[32m62\u001b[39m     gating_output = \u001b[38;5;28;43mself\u001b[39;49m\u001b[43m.\u001b[49m\u001b[43mgate\u001b[49m\u001b[43m(\u001b[49m\u001b[43mx\u001b[49m\u001b[43m)\u001b[49m \u001b[38;5;66;03m# shape: (B, N)\u001b[39;00m\n\u001b[32m     63\u001b[39m     expert_outputs = torch.stack([expert(x) \u001b[38;5;28;01mfor\u001b[39;00m expert \u001b[38;5;129;01min\u001b[39;00m \u001b[38;5;28mself\u001b[39m.experts], dim=\u001b[32m2\u001b[39m) \u001b[38;5;66;03m# shape: (B, D_out, N)\u001b[39;00m\n\u001b[32m     64\u001b[39m     \u001b[38;5;66;03m# Calculating weighted sum:\u001b[39;00m\n\u001b[32m     65\u001b[39m     \u001b[38;5;66;03m# 1. gating_output.unsqueeze -> (B, N, 1)\u001b[39;00m\n\u001b[32m     66\u001b[39m     \u001b[38;5;66;03m# 2. torch.bmm(...) -> (B, D_out, 1)\u001b[39;00m\n\u001b[32m     67\u001b[39m     \u001b[38;5;66;03m# 3. .squeeze(2) -> (B, D_out)\u001b[39;00m\n",
      "\u001b[36mFile \u001b[39m\u001b[32m~\\AppData\\Local\\Packages\\PythonSoftwareFoundation.Python.3.13_qbz5n2kfra8p0\\LocalCache\\local-packages\\Python313\\site-packages\\torch\\fx\\_symbolic_trace.py:825\u001b[39m, in \u001b[36mTracer.trace.<locals>.module_call_wrapper\u001b[39m\u001b[34m(mod, *args, **kwargs)\u001b[39m\n\u001b[32m    818\u001b[39m     \u001b[38;5;28;01mreturn\u001b[39;00m _orig_module_call(mod, *args, **kwargs)\n\u001b[32m    820\u001b[39m _autowrap_check(\n\u001b[32m    821\u001b[39m     patcher,  \u001b[38;5;66;03m# type: ignore[has-type]\u001b[39;00m\n\u001b[32m    822\u001b[39m     \u001b[38;5;28mgetattr\u001b[39m(\u001b[38;5;28mgetattr\u001b[39m(mod, \u001b[33m\"\u001b[39m\u001b[33mforward\u001b[39m\u001b[33m\"\u001b[39m, mod), \u001b[33m\"\u001b[39m\u001b[33m__globals__\u001b[39m\u001b[33m\"\u001b[39m, {}),\n\u001b[32m    823\u001b[39m     \u001b[38;5;28mself\u001b[39m._autowrap_function_ids,\n\u001b[32m    824\u001b[39m )\n\u001b[32m--> \u001b[39m\u001b[32m825\u001b[39m \u001b[38;5;28;01mreturn\u001b[39;00m \u001b[38;5;28;43mself\u001b[39;49m\u001b[43m.\u001b[49m\u001b[43mcall_module\u001b[49m\u001b[43m(\u001b[49m\u001b[43mmod\u001b[49m\u001b[43m,\u001b[49m\u001b[43m \u001b[49m\u001b[43mforward\u001b[49m\u001b[43m,\u001b[49m\u001b[43m \u001b[49m\u001b[43margs\u001b[49m\u001b[43m,\u001b[49m\u001b[43m \u001b[49m\u001b[43mkwargs\u001b[49m\u001b[43m)\u001b[49m\n",
      "\u001b[36mFile \u001b[39m\u001b[32m~\\AppData\\Local\\Packages\\PythonSoftwareFoundation.Python.3.13_qbz5n2kfra8p0\\LocalCache\\local-packages\\Python313\\site-packages\\torchvision\\models\\feature_extraction.py:84\u001b[39m, in \u001b[36mNodePathTracer.call_module\u001b[39m\u001b[34m(self, m, forward, args, kwargs)\u001b[39m\n\u001b[32m     82\u001b[39m \u001b[38;5;28mself\u001b[39m.current_module_qualname = module_qualname\n\u001b[32m     83\u001b[39m \u001b[38;5;28;01mif\u001b[39;00m \u001b[38;5;129;01mnot\u001b[39;00m \u001b[38;5;28mself\u001b[39m.is_leaf_module(m, module_qualname):\n\u001b[32m---> \u001b[39m\u001b[32m84\u001b[39m     out = \u001b[43mforward\u001b[49m\u001b[43m(\u001b[49m\u001b[43m*\u001b[49m\u001b[43margs\u001b[49m\u001b[43m,\u001b[49m\u001b[43m \u001b[49m\u001b[43m*\u001b[49m\u001b[43m*\u001b[49m\u001b[43mkwargs\u001b[49m\u001b[43m)\u001b[49m\n\u001b[32m     85\u001b[39m     \u001b[38;5;28;01mreturn\u001b[39;00m out\n\u001b[32m     86\u001b[39m \u001b[38;5;28;01mreturn\u001b[39;00m \u001b[38;5;28mself\u001b[39m.create_proxy(\u001b[33m\"\u001b[39m\u001b[33mcall_module\u001b[39m\u001b[33m\"\u001b[39m, module_qualname, args, kwargs)\n",
      "\u001b[36mFile \u001b[39m\u001b[32m~\\AppData\\Local\\Packages\\PythonSoftwareFoundation.Python.3.13_qbz5n2kfra8p0\\LocalCache\\local-packages\\Python313\\site-packages\\torch\\fx\\_symbolic_trace.py:818\u001b[39m, in \u001b[36mTracer.trace.<locals>.module_call_wrapper.<locals>.forward\u001b[39m\u001b[34m(*args, **kwargs)\u001b[39m\n\u001b[32m    817\u001b[39m \u001b[38;5;28;01mdef\u001b[39;00m\u001b[38;5;250m \u001b[39m\u001b[34mforward\u001b[39m(*args, **kwargs):\n\u001b[32m--> \u001b[39m\u001b[32m818\u001b[39m     \u001b[38;5;28;01mreturn\u001b[39;00m \u001b[43m_orig_module_call\u001b[49m\u001b[43m(\u001b[49m\u001b[43mmod\u001b[49m\u001b[43m,\u001b[49m\u001b[43m \u001b[49m\u001b[43m*\u001b[49m\u001b[43margs\u001b[49m\u001b[43m,\u001b[49m\u001b[43m \u001b[49m\u001b[43m*\u001b[49m\u001b[43m*\u001b[49m\u001b[43mkwargs\u001b[49m\u001b[43m)\u001b[49m\n",
      "\u001b[36mFile \u001b[39m\u001b[32m~\\AppData\\Local\\Packages\\PythonSoftwareFoundation.Python.3.13_qbz5n2kfra8p0\\LocalCache\\local-packages\\Python313\\site-packages\\torch\\nn\\modules\\module.py:1773\u001b[39m, in \u001b[36mModule._wrapped_call_impl\u001b[39m\u001b[34m(self, *args, **kwargs)\u001b[39m\n\u001b[32m   1771\u001b[39m     \u001b[38;5;28;01mreturn\u001b[39;00m \u001b[38;5;28mself\u001b[39m._compiled_call_impl(*args, **kwargs)  \u001b[38;5;66;03m# type: ignore[misc]\u001b[39;00m\n\u001b[32m   1772\u001b[39m \u001b[38;5;28;01melse\u001b[39;00m:\n\u001b[32m-> \u001b[39m\u001b[32m1773\u001b[39m     \u001b[38;5;28;01mreturn\u001b[39;00m \u001b[38;5;28;43mself\u001b[39;49m\u001b[43m.\u001b[49m\u001b[43m_call_impl\u001b[49m\u001b[43m(\u001b[49m\u001b[43m*\u001b[49m\u001b[43margs\u001b[49m\u001b[43m,\u001b[49m\u001b[43m \u001b[49m\u001b[43m*\u001b[49m\u001b[43m*\u001b[49m\u001b[43mkwargs\u001b[49m\u001b[43m)\u001b[49m\n",
      "\u001b[36mFile \u001b[39m\u001b[32m~\\AppData\\Local\\Packages\\PythonSoftwareFoundation.Python.3.13_qbz5n2kfra8p0\\LocalCache\\local-packages\\Python313\\site-packages\\torch\\nn\\modules\\module.py:1784\u001b[39m, in \u001b[36mModule._call_impl\u001b[39m\u001b[34m(self, *args, **kwargs)\u001b[39m\n\u001b[32m   1779\u001b[39m \u001b[38;5;66;03m# If we don't have any hooks, we want to skip the rest of the logic in\u001b[39;00m\n\u001b[32m   1780\u001b[39m \u001b[38;5;66;03m# this function, and just call forward.\u001b[39;00m\n\u001b[32m   1781\u001b[39m \u001b[38;5;28;01mif\u001b[39;00m \u001b[38;5;129;01mnot\u001b[39;00m (\u001b[38;5;28mself\u001b[39m._backward_hooks \u001b[38;5;129;01mor\u001b[39;00m \u001b[38;5;28mself\u001b[39m._backward_pre_hooks \u001b[38;5;129;01mor\u001b[39;00m \u001b[38;5;28mself\u001b[39m._forward_hooks \u001b[38;5;129;01mor\u001b[39;00m \u001b[38;5;28mself\u001b[39m._forward_pre_hooks\n\u001b[32m   1782\u001b[39m         \u001b[38;5;129;01mor\u001b[39;00m _global_backward_pre_hooks \u001b[38;5;129;01mor\u001b[39;00m _global_backward_hooks\n\u001b[32m   1783\u001b[39m         \u001b[38;5;129;01mor\u001b[39;00m _global_forward_hooks \u001b[38;5;129;01mor\u001b[39;00m _global_forward_pre_hooks):\n\u001b[32m-> \u001b[39m\u001b[32m1784\u001b[39m     \u001b[38;5;28;01mreturn\u001b[39;00m \u001b[43mforward_call\u001b[49m\u001b[43m(\u001b[49m\u001b[43m*\u001b[49m\u001b[43margs\u001b[49m\u001b[43m,\u001b[49m\u001b[43m \u001b[49m\u001b[43m*\u001b[49m\u001b[43m*\u001b[49m\u001b[43mkwargs\u001b[49m\u001b[43m)\u001b[49m\n\u001b[32m   1786\u001b[39m result = \u001b[38;5;28;01mNone\u001b[39;00m\n\u001b[32m   1787\u001b[39m called_always_called_hooks = \u001b[38;5;28mset\u001b[39m()\n",
      "\u001b[36mCell\u001b[39m\u001b[36m \u001b[39m\u001b[32mIn[6]\u001b[39m\u001b[32m, line 30\u001b[39m, in \u001b[36mGating.forward\u001b[39m\u001b[34m(self, x)\u001b[39m\n\u001b[32m     27\u001b[39m x = \u001b[38;5;28mself\u001b[39m.output(x)\n\u001b[32m     28\u001b[39m \u001b[38;5;250m\u001b[39m\u001b[33;03m'''This is the main difference between a soft MoE and HardMoE and this will cause problems with backpropagation\u001b[39;00m\n\u001b[32m     29\u001b[39m \u001b[33;03msince the gradient will be zero for all experts that are not in the topk'''\u001b[39;00m\n\u001b[32m---> \u001b[39m\u001b[32m30\u001b[39m \u001b[38;5;28;01mif\u001b[39;00m \u001b[38;5;28;43mself\u001b[39;49m\u001b[43m.\u001b[49m\u001b[43mtopk\u001b[49m\u001b[43m \u001b[49m\u001b[43m<\u001b[49m\u001b[43m \u001b[49m\u001b[43mx\u001b[49m\u001b[43m.\u001b[49m\u001b[43mshape\u001b[49m\u001b[43m[\u001b[49m\u001b[32;43m1\u001b[39;49m\u001b[43m]\u001b[49m:\n\u001b[32m     31\u001b[39m     \u001b[38;5;66;03m# Get the top-k values\u001b[39;00m\n\u001b[32m     32\u001b[39m     topk_values, _ = torch.topk(x, \u001b[38;5;28mself\u001b[39m.topk, dim=\u001b[32m1\u001b[39m)\n\u001b[32m     33\u001b[39m     \u001b[38;5;66;03m# Get the k-th largest value for each sample\u001b[39;00m\n",
      "\u001b[36mFile \u001b[39m\u001b[32m~\\AppData\\Local\\Packages\\PythonSoftwareFoundation.Python.3.13_qbz5n2kfra8p0\\LocalCache\\local-packages\\Python313\\site-packages\\torch\\fx\\proxy.py:577\u001b[39m, in \u001b[36mProxy.__bool__\u001b[39m\u001b[34m(self)\u001b[39m\n\u001b[32m    574\u001b[39m             \u001b[38;5;28mself\u001b[39m.tracer.create_proxy(\u001b[33m\"\u001b[39m\u001b[33mcall_function\u001b[39m\u001b[33m\"\u001b[39m, assert_fn, (\u001b[38;5;28mself\u001b[39m,), {})\n\u001b[32m    575\u001b[39m             \u001b[38;5;28;01mreturn\u001b[39;00m \u001b[38;5;28;01mTrue\u001b[39;00m\n\u001b[32m--> \u001b[39m\u001b[32m577\u001b[39m \u001b[38;5;28;01mreturn\u001b[39;00m \u001b[38;5;28;43mself\u001b[39;49m\u001b[43m.\u001b[49m\u001b[43mtracer\u001b[49m\u001b[43m.\u001b[49m\u001b[43mto_bool\u001b[49m\u001b[43m(\u001b[49m\u001b[38;5;28;43mself\u001b[39;49m\u001b[43m)\u001b[49m\n",
      "\u001b[36mFile \u001b[39m\u001b[32m~\\AppData\\Local\\Packages\\PythonSoftwareFoundation.Python.3.13_qbz5n2kfra8p0\\LocalCache\\local-packages\\Python313\\site-packages\\torch\\fx\\proxy.py:388\u001b[39m, in \u001b[36mTracerBase.to_bool\u001b[39m\u001b[34m(self, obj)\u001b[39m\n\u001b[32m    381\u001b[39m \u001b[38;5;129m@compatibility\u001b[39m(is_backward_compatible=\u001b[38;5;28;01mTrue\u001b[39;00m)\n\u001b[32m    382\u001b[39m \u001b[38;5;28;01mdef\u001b[39;00m\u001b[38;5;250m \u001b[39m\u001b[34mto_bool\u001b[39m(\u001b[38;5;28mself\u001b[39m, obj: \u001b[33m\"\u001b[39m\u001b[33mProxy\u001b[39m\u001b[33m\"\u001b[39m) -> \u001b[38;5;28mbool\u001b[39m:\n\u001b[32m    383\u001b[39m \u001b[38;5;250m    \u001b[39m\u001b[33;03m\"\"\"Called when a proxy object is being converted to a boolean, such as\u001b[39;00m\n\u001b[32m    384\u001b[39m \u001b[33;03m    when used in control flow.  Normally we don't know what to do because\u001b[39;00m\n\u001b[32m    385\u001b[39m \u001b[33;03m    we don't know the value of the proxy, but a custom tracer can attach more\u001b[39;00m\n\u001b[32m    386\u001b[39m \u001b[33;03m    information to the graph node using create_node and can choose to return a value.\u001b[39;00m\n\u001b[32m    387\u001b[39m \u001b[33;03m    \"\"\"\u001b[39;00m\n\u001b[32m--> \u001b[39m\u001b[32m388\u001b[39m     \u001b[38;5;28;01mraise\u001b[39;00m TraceError(\n\u001b[32m    389\u001b[39m         \u001b[33m\"\u001b[39m\u001b[33msymbolically traced variables cannot be used as inputs to control flow\u001b[39m\u001b[33m\"\u001b[39m\n\u001b[32m    390\u001b[39m     )\n",
      "\u001b[31mTraceError\u001b[39m: symbolically traced variables cannot be used as inputs to control flow"
     ]
    }
   ],
   "source": [
    "# For getting the probability distribution for experts\n",
    "#this again doesn't really work with HardMoE because of the topk\n",
    "return_nodes = {\n",
    "    \"gate.softmax\" : \"probs\"\n",
    "}\n",
    "\n",
    "# Getting the gating network\n",
    "moe_gating = create_feature_extractor(moe, return_nodes=return_nodes)\n",
    "moe_gating.eval()"
   ]
  }
 ],
 "metadata": {
  "kernelspec": {
   "display_name": "Python 3",
   "language": "python",
   "name": "python3"
  },
  "language_info": {
   "codemirror_mode": {
    "name": "ipython",
    "version": 3
   },
   "file_extension": ".py",
   "mimetype": "text/x-python",
   "name": "python",
   "nbconvert_exporter": "python",
   "pygments_lexer": "ipython3",
   "version": "3.13.8"
  }
 },
 "nbformat": 4,
 "nbformat_minor": 5
}
