{
  "nbformat": 4,
  "nbformat_minor": 0,
  "metadata": {
    "colab": {
      "provenance": [],
      "gpuType": "T4"
    },
    "kernelspec": {
      "name": "python3",
      "display_name": "Python 3"
    },
    "language_info": {
      "name": "python"
    },
    "accelerator": "GPU"
  },
  "cells": [
    {
      "cell_type": "code",
      "source": [
        "import torch\n",
        "import torchvision\n",
        "from torch.utils.data import random_split, Subset\n",
        "import torchvision.transforms as transforms\n",
        "import torch.nn as nn\n",
        "import torch.nn.functional as F\n",
        "import torch.optim as optim\n",
        "import matplotlib.pyplot as plt"
      ],
      "metadata": {
        "id": "Z9vmiMpO9kD9"
      },
      "execution_count": 1,
      "outputs": []
    },
    {
      "cell_type": "code",
      "source": [
        "# config\n",
        "EPOCHS = 40\n",
        "BATCH_SIZE = 64\n",
        "\n",
        "config = {\n",
        "    'epochs': EPOCHS,\n",
        "    'batch_size': BATCH_SIZE,\n",
        "}"
      ],
      "metadata": {
        "id": "ATOg83TqponA"
      },
      "execution_count": 2,
      "outputs": []
    },
    {
      "cell_type": "markdown",
      "source": [
        "## Load data"
      ],
      "metadata": {
        "id": "MFGTidZtp0_4"
      }
    },
    {
      "cell_type": "code",
      "source": [
        "# transform for training data with augmentation\n",
        "train_transform = transforms.Compose([\n",
        "    transforms.RandomHorizontalFlip(),\n",
        "    transforms.RandomCrop(32, padding=4),\n",
        "    transforms.ColorJitter(brightness=0.2, contrast=0.2, saturation=0.2, hue=0.1),\n",
        "    transforms.ToTensor(),\n",
        "    transforms.Normalize((0.5, 0.5, 0.5), (0.5, 0.5, 0.5))\n",
        "])\n",
        "\n",
        "# transform for validation and test data (no augmentation)\n",
        "test_transform = transforms.Compose([\n",
        "    transforms.ToTensor(),\n",
        "    transforms.Normalize((0.5, 0.5, 0.5), (0.5, 0.5, 0.5))\n",
        "])\n",
        "\n",
        "# load train dataset\n",
        "full_trainset = torchvision.datasets.CIFAR100(root='./data', train=True,\n",
        "                                              download=True, transform=train_transform)\n",
        "\n",
        "# load val dataset without augmentation (will be split below)\n",
        "val_dataset = torchvision.datasets.CIFAR100(root='./data', train=True,\n",
        "                                            download=True, transform=test_transform)\n",
        "\n",
        "# split val dataset\n",
        "train_size = int(0.8 * len(full_trainset))\n",
        "val_size = len(full_trainset) - train_size\n",
        "# ensure the split is the same every time, so we set a generator\n",
        "generator = torch.Generator().manual_seed(42)\n",
        "trainset, valset_with_aug = random_split(full_trainset, [train_size, val_size], generator=generator)\n",
        "# create final validation set by applying the validation indices to the non-augmented dataset\n",
        "valset = Subset(val_dataset, valset_with_aug.indices)\n",
        "\n",
        "# load the test dataset as before\n",
        "testset = torchvision.datasets.CIFAR100(root='./data', train=False,\n",
        "                                       download=True, transform=test_transform)\n",
        "\n",
        "# create data loaders\n",
        "train_loader = torch.utils.data.DataLoader(trainset, batch_size=64,\n",
        "                                          shuffle=True, num_workers=2)\n",
        "val_loader = torch.utils.data.DataLoader(valset, batch_size=64,\n",
        "                                          shuffle=False, num_workers=2)\n",
        "test_loader = torch.utils.data.DataLoader(testset, batch_size=64,\n",
        "                                         shuffle=False, num_workers=2)\n",
        "\n",
        "# get class names for CIFAR-100 (accessing from the original full dataset is safe)\n",
        "classes = full_trainset.classes\n",
        "print('Number of classes:', len(classes))\n",
        "print('Example classes:', classes[:3])"
      ],
      "metadata": {
        "colab": {
          "base_uri": "https://localhost:8080/"
        },
        "id": "kQE7uyBe08mv",
        "outputId": "fd5a139a-0179-4395-8189-5dc0d8edce2a"
      },
      "execution_count": 3,
      "outputs": [
        {
          "output_type": "stream",
          "name": "stderr",
          "text": [
            "100%|██████████| 169M/169M [00:14<00:00, 11.7MB/s]\n"
          ]
        },
        {
          "output_type": "stream",
          "name": "stdout",
          "text": [
            "Number of classes: 100\n",
            "Example classes: ['apple', 'aquarium_fish', 'baby']\n"
          ]
        }
      ]
    },
    {
      "cell_type": "markdown",
      "metadata": {
        "id": "a1f05c26"
      },
      "source": [
        "## CNN model"
      ]
    },
    {
      "cell_type": "code",
      "metadata": {
        "id": "95fd284e"
      },
      "source": [
        "class Net(nn.Module):\n",
        "    def __init__(self):\n",
        "        super().__init__()\n",
        "        # first CNN block\n",
        "        self.conv1_1 = nn.Conv2d(3, 128, kernel_size=3, padding=1)\n",
        "        self.bn1_1 = nn.BatchNorm2d(128)\n",
        "        self.conv1_2 = nn.Conv2d(128, 128, kernel_size=3, padding=1)\n",
        "        self.bn1_2 = nn.BatchNorm2d(128)\n",
        "        self.pool1 = nn.MaxPool2d(kernel_size=2, stride=2)\n",
        "        self.dropout1 = nn.Dropout(0.2)\n",
        "\n",
        "        # second CNN block\n",
        "        self.conv2_1 = nn.Conv2d(128, 256, kernel_size=3, padding=1)\n",
        "        self.bn2_1 = nn.BatchNorm2d(256)\n",
        "        self.conv2_2 = nn.Conv2d(256, 256, kernel_size=3, padding=1)\n",
        "        self.bn2_2 = nn.BatchNorm2d(256)\n",
        "        self.pool2 = nn.MaxPool2d(kernel_size=2, stride=2)\n",
        "        self.dropout2 = nn.Dropout(0.2)\n",
        "\n",
        "        # third CNN block\n",
        "        self.conv3_1 = nn.Conv2d(256, 256, kernel_size=3, padding=1)\n",
        "        self.bn3_1 = nn.BatchNorm2d(256)\n",
        "        self.conv3_2 = nn.Conv2d(256, 256, kernel_size=3, padding=1)\n",
        "        self.bn3_2 = nn.BatchNorm2d(256)\n",
        "        self.pool3 = nn.MaxPool2d(kernel_size=2, stride=2)\n",
        "        self.dropout3 = nn.Dropout(0.2)\n",
        "\n",
        "        # FC layers\n",
        "        self.fc1 = nn.Linear(256 * 4 * 4, 512)\n",
        "        self.dropout4 = nn.Dropout(0.2)\n",
        "        self.bn_fc = nn.BatchNorm1d(512)\n",
        "        self.fc2 = nn.Linear(512, 100) # 100 classes\n",
        "\n",
        "    def forward(self, x):\n",
        "        # first CNN block\n",
        "        x = F.relu(self.bn1_1(self.conv1_1(x)))\n",
        "        x = F.relu(self.bn1_2(self.conv1_2(x)))\n",
        "        x = self.pool1(x)\n",
        "        x = self.dropout1(x)\n",
        "\n",
        "        # second CNN block\n",
        "        x = F.relu(self.bn2_1(self.conv2_1(x)))\n",
        "        x = F.relu(self.bn2_2(self.conv2_2(x)))\n",
        "        x = self.pool2(x)\n",
        "        x = self.dropout2(x)\n",
        "\n",
        "        # third CNN block\n",
        "        x = F.relu(self.bn3_1(self.conv3_1(x)))\n",
        "        x = F.relu(self.bn3_2(self.conv3_2(x)))\n",
        "        x = self.pool3(x)\n",
        "        x = self.dropout3(x)\n",
        "\n",
        "        # flatten\n",
        "        x = torch.flatten(x, 1)\n",
        "\n",
        "        # FC layers\n",
        "        x = F.relu(self.fc1(x))\n",
        "        x = self.dropout4(x)\n",
        "        x = self.bn_fc(x)\n",
        "        x = self.fc2(x)\n",
        "\n",
        "        return x\n",
        "\n",
        "net = Net()"
      ],
      "execution_count": 4,
      "outputs": []
    },
    {
      "cell_type": "code",
      "metadata": {
        "id": "ac6b9488"
      },
      "source": [
        "# loss\n",
        "config['loss'] = 'cross_entropy'\n",
        "criterion = nn.CrossEntropyLoss()\n",
        "\n",
        "# optimizer\n",
        "config['optimizer'] = {\n",
        "    'name': 'RMSprop',\n",
        "    'learning_rate': 0.0001\n",
        "}\n",
        "optimizer = optim.RMSprop(net.parameters(), lr=0.0001)"
      ],
      "execution_count": 5,
      "outputs": []
    },
    {
      "cell_type": "markdown",
      "metadata": {
        "id": "a36f750a"
      },
      "source": [
        "## Train"
      ]
    },
    {
      "cell_type": "code",
      "metadata": {
        "colab": {
          "base_uri": "https://localhost:8080/"
        },
        "id": "9f13bd63",
        "outputId": "ed414fa4-68a3-4d9c-dd80-09ca6e16450e"
      },
      "source": [
        "# get device\n",
        "device = torch.device(\"cuda:0\" if torch.cuda.is_available() else \"cpu\")\n",
        "net.to(device)\n",
        "\n",
        "# loss values for plotting\n",
        "train_losses = []\n",
        "val_losses = []\n",
        "\n",
        "# training loop\n",
        "for epoch in range(EPOCHS):\n",
        "    running_loss = 0.0\n",
        "\n",
        "    net.train() # set the model to training mode\n",
        "    for i, data in enumerate(train_loader, 0):\n",
        "        inputs, labels = data[0].to(device), data[1].to(device)\n",
        "\n",
        "        # zero the parameter gradients\n",
        "        optimizer.zero_grad()\n",
        "\n",
        "        # forward\n",
        "        outputs = net(inputs)\n",
        "        loss = criterion(outputs, labels)\n",
        "\n",
        "        # backward\n",
        "        loss.backward()\n",
        "\n",
        "        # update\n",
        "        optimizer.step()\n",
        "\n",
        "        # statistics\n",
        "        running_loss += loss.item()\n",
        "\n",
        "    # average training loss for the epoch\n",
        "    epoch_train_loss = running_loss / len(train_loader)\n",
        "    train_losses.append(epoch_train_loss)\n",
        "\n",
        "    # validation loop\n",
        "    net.eval() # set the model to evaluation mode\n",
        "    val_running_loss = 0.0\n",
        "    with torch.no_grad(): # disable gradient calculation during validation\n",
        "        for i, data in enumerate(val_loader, 0):\n",
        "            inputs, labels = data[0].to(device), data[1].to(device)\n",
        "            outputs = net(inputs)\n",
        "            loss = criterion(outputs, labels)\n",
        "            val_running_loss += loss.item()\n",
        "\n",
        "    # average validation loss for the epoch\n",
        "    epoch_val_loss = val_running_loss / len(val_loader)\n",
        "    val_losses.append(epoch_val_loss)\n",
        "\n",
        "    print(f'Epoch [{epoch + 1}/{EPOCHS}], Train Loss: {epoch_train_loss:.3f}, Val Loss: {epoch_val_loss:.3f}')"
      ],
      "execution_count": 6,
      "outputs": [
        {
          "output_type": "stream",
          "name": "stdout",
          "text": [
            "Epoch [1/40], Train Loss: 4.004, Val Loss: 3.570\n",
            "Epoch [2/40], Train Loss: 3.487, Val Loss: 3.045\n",
            "Epoch [3/40], Train Loss: 3.078, Val Loss: 2.738\n",
            "Epoch [4/40], Train Loss: 2.762, Val Loss: 2.474\n",
            "Epoch [5/40], Train Loss: 2.544, Val Loss: 2.233\n",
            "Epoch [6/40], Train Loss: 2.362, Val Loss: 2.147\n",
            "Epoch [7/40], Train Loss: 2.220, Val Loss: 2.051\n",
            "Epoch [8/40], Train Loss: 2.114, Val Loss: 1.908\n",
            "Epoch [9/40], Train Loss: 2.014, Val Loss: 1.793\n",
            "Epoch [10/40], Train Loss: 1.937, Val Loss: 1.773\n",
            "Epoch [11/40], Train Loss: 1.866, Val Loss: 1.672\n",
            "Epoch [12/40], Train Loss: 1.798, Val Loss: 1.661\n",
            "Epoch [13/40], Train Loss: 1.743, Val Loss: 1.606\n",
            "Epoch [14/40], Train Loss: 1.697, Val Loss: 1.573\n",
            "Epoch [15/40], Train Loss: 1.642, Val Loss: 1.595\n",
            "Epoch [16/40], Train Loss: 1.595, Val Loss: 1.563\n",
            "Epoch [17/40], Train Loss: 1.553, Val Loss: 1.467\n",
            "Epoch [18/40], Train Loss: 1.514, Val Loss: 1.450\n",
            "Epoch [19/40], Train Loss: 1.474, Val Loss: 1.429\n",
            "Epoch [20/40], Train Loss: 1.443, Val Loss: 1.411\n",
            "Epoch [21/40], Train Loss: 1.410, Val Loss: 1.456\n",
            "Epoch [22/40], Train Loss: 1.385, Val Loss: 1.388\n",
            "Epoch [23/40], Train Loss: 1.358, Val Loss: 1.415\n",
            "Epoch [24/40], Train Loss: 1.316, Val Loss: 1.373\n",
            "Epoch [25/40], Train Loss: 1.299, Val Loss: 1.325\n",
            "Epoch [26/40], Train Loss: 1.261, Val Loss: 1.359\n",
            "Epoch [27/40], Train Loss: 1.242, Val Loss: 1.364\n",
            "Epoch [28/40], Train Loss: 1.221, Val Loss: 1.277\n",
            "Epoch [29/40], Train Loss: 1.194, Val Loss: 1.313\n",
            "Epoch [30/40], Train Loss: 1.171, Val Loss: 1.301\n",
            "Epoch [31/40], Train Loss: 1.143, Val Loss: 1.277\n",
            "Epoch [32/40], Train Loss: 1.131, Val Loss: 1.269\n",
            "Epoch [33/40], Train Loss: 1.105, Val Loss: 1.257\n",
            "Epoch [34/40], Train Loss: 1.090, Val Loss: 1.258\n",
            "Epoch [35/40], Train Loss: 1.085, Val Loss: 1.244\n",
            "Epoch [36/40], Train Loss: 1.060, Val Loss: 1.244\n",
            "Epoch [37/40], Train Loss: 1.044, Val Loss: 1.238\n",
            "Epoch [38/40], Train Loss: 1.020, Val Loss: 1.231\n",
            "Epoch [39/40], Train Loss: 1.001, Val Loss: 1.254\n",
            "Epoch [40/40], Train Loss: 0.986, Val Loss: 1.274\n"
          ]
        }
      ]
    },
    {
      "cell_type": "code",
      "source": [
        "# plot for train and val loss\n",
        "plt.figure(figsize=(10, 5))\n",
        "plt.plot(train_losses, label='Training Loss')\n",
        "plt.plot(val_losses, label='Validation Loss')\n",
        "plt.xlabel('Epoch')\n",
        "plt.ylabel('Loss')\n",
        "plt.title('Training and Validation Loss')\n",
        "plt.legend()\n",
        "plt.show()"
      ],
      "metadata": {
        "colab": {
          "base_uri": "https://localhost:8080/",
          "height": 487
        },
        "id": "N6TOvwCFsz7f",
        "outputId": "f7f8557e-5eec-4055-f55a-52459047e965"
      },
      "execution_count": 7,
      "outputs": [
        {
          "output_type": "display_data",
          "data": {
            "text/plain": [
              "<Figure size 1000x500 with 1 Axes>"
            ],
            "image/png": "[encoded data removed]"
          },
          "metadata": {}
        }
      ]
    },
    {
      "cell_type": "markdown",
      "metadata": {
        "id": "2f6ba2b0"
      },
      "source": [
        "## Evaluation"
      ]
    },
    {
      "cell_type": "code",
      "metadata": {
        "colab": {
          "base_uri": "https://localhost:8080/"
        },
        "id": "cf92a404",
        "outputId": "9da0144e-4653-4557-f65f-0f8234e6dbed"
      },
      "source": [
        "from sklearn.metrics import precision_score, recall_score, f1_score\n",
        "\n",
        "correct = 0\n",
        "total = 0\n",
        "all_labels = []\n",
        "all_predicted = []\n",
        "\n",
        "with torch.no_grad():\n",
        "    for data in test_loader:\n",
        "        images, labels = data[0].to(device), data[1].to(device)\n",
        "\n",
        "        # forward pass\n",
        "        outputs = net(images)\n",
        "\n",
        "        # get predicted class (highest proba)\n",
        "        _, predicted = torch.max(outputs.data, 1)\n",
        "        total += labels.size(0)\n",
        "        correct += (predicted == labels).sum().item()\n",
        "\n",
        "        all_labels.extend(labels.cpu().numpy())\n",
        "        all_predicted.extend(predicted.cpu().numpy())\n",
        "\n",
        "accuracy = 100 * correct / total\n",
        "precision = precision_score(all_labels, all_predicted, average='macro')\n",
        "recall = recall_score(all_labels, all_predicted, average='macro')\n",
        "f1 = f1_score(all_labels, all_predicted, average='macro')\n",
        "\n",
        "print(f'Accuracy of the network on the {total} test images: {accuracy:.2f} %')\n",
        "print(f'Precision (macro average): {precision:.2f}')\n",
        "print(f'Recall (macro average): {recall:.2f}')\n",
        "print(f'F1-score (macro average): {f1:.2f}')\n",
        "\n",
        "results = {\n",
        "    'accuracy': accuracy,\n",
        "    'precision': precision,\n",
        "    'recall': recall,\n",
        "    'f1-score': f1\n",
        "}"
      ],
      "execution_count": 8,
      "outputs": [
        {
          "output_type": "stream",
          "name": "stdout",
          "text": [
            "Accuracy of the network on the 10000 test images: 64.42 %\n",
            "Precision (macro average): 0.66\n",
            "Recall (macro average): 0.64\n",
            "F1-score (macro average): 0.65\n"
          ]
        }
      ]
    },
    {
      "cell_type": "code",
      "source": [],
      "metadata": {
        "id": "ykMWBmJRxUUe"
      },
      "execution_count": 8,
      "outputs": []
    }
  ]
}